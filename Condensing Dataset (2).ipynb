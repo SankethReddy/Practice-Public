{
 "cells": [
  {
   "cell_type": "code",
   "execution_count": 1,
   "metadata": {},
   "outputs": [],
   "source": [
    "import pandas as pd\n",
    "import numpy as np"
   ]
  },
  {
   "cell_type": "code",
   "execution_count": 2,
   "metadata": {},
   "outputs": [],
   "source": [
    "df = pd.read_csv('Condensed Dataset.csv')"
   ]
  },
  {
   "cell_type": "code",
   "execution_count": 3,
   "metadata": {},
   "outputs": [],
   "source": [
    "# Data Manipulation"
   ]
  },
  {
   "cell_type": "code",
   "execution_count": 4,
   "metadata": {},
   "outputs": [
    {
     "data": {
      "text/html": [
       "<div>\n",
       "<style scoped>\n",
       "    .dataframe tbody tr th:only-of-type {\n",
       "        vertical-align: middle;\n",
       "    }\n",
       "\n",
       "    .dataframe tbody tr th {\n",
       "        vertical-align: top;\n",
       "    }\n",
       "\n",
       "    .dataframe thead th {\n",
       "        text-align: right;\n",
       "    }\n",
       "</style>\n",
       "<table border=\"1\" class=\"dataframe\">\n",
       "  <thead>\n",
       "    <tr style=\"text-align: right;\">\n",
       "      <th></th>\n",
       "      <th>Unnamed: 0</th>\n",
       "      <th>ID</th>\n",
       "      <th>Source</th>\n",
       "      <th>TMC</th>\n",
       "      <th>Severity</th>\n",
       "      <th>Start_Time</th>\n",
       "      <th>End_Time</th>\n",
       "      <th>Start_Lat</th>\n",
       "      <th>Start_Lng</th>\n",
       "      <th>End_Lat</th>\n",
       "      <th>...</th>\n",
       "      <th>Roundabout</th>\n",
       "      <th>Station</th>\n",
       "      <th>Stop</th>\n",
       "      <th>Traffic_Calming</th>\n",
       "      <th>Traffic_Signal</th>\n",
       "      <th>Turning_Loop</th>\n",
       "      <th>Sunrise_Sunset</th>\n",
       "      <th>Civil_Twilight</th>\n",
       "      <th>Nautical_Twilight</th>\n",
       "      <th>Astronomical_Twilight</th>\n",
       "    </tr>\n",
       "  </thead>\n",
       "  <tbody>\n",
       "    <tr>\n",
       "      <th>0</th>\n",
       "      <td>0</td>\n",
       "      <td>A-1</td>\n",
       "      <td>MapQuest</td>\n",
       "      <td>201.0</td>\n",
       "      <td>3</td>\n",
       "      <td>2016-02-08 05:46:00</td>\n",
       "      <td>2016-02-08 11:00:00</td>\n",
       "      <td>39.865147</td>\n",
       "      <td>-84.058723</td>\n",
       "      <td>NaN</td>\n",
       "      <td>...</td>\n",
       "      <td>False</td>\n",
       "      <td>False</td>\n",
       "      <td>False</td>\n",
       "      <td>False</td>\n",
       "      <td>False</td>\n",
       "      <td>False</td>\n",
       "      <td>Night</td>\n",
       "      <td>Night</td>\n",
       "      <td>Night</td>\n",
       "      <td>Night</td>\n",
       "    </tr>\n",
       "    <tr>\n",
       "      <th>1</th>\n",
       "      <td>10</td>\n",
       "      <td>A-11</td>\n",
       "      <td>MapQuest</td>\n",
       "      <td>201.0</td>\n",
       "      <td>3</td>\n",
       "      <td>2016-02-08 08:14:42</td>\n",
       "      <td>2016-02-08 08:44:42</td>\n",
       "      <td>39.952812</td>\n",
       "      <td>-83.119293</td>\n",
       "      <td>NaN</td>\n",
       "      <td>...</td>\n",
       "      <td>False</td>\n",
       "      <td>False</td>\n",
       "      <td>False</td>\n",
       "      <td>False</td>\n",
       "      <td>False</td>\n",
       "      <td>False</td>\n",
       "      <td>Day</td>\n",
       "      <td>Day</td>\n",
       "      <td>Day</td>\n",
       "      <td>Day</td>\n",
       "    </tr>\n",
       "    <tr>\n",
       "      <th>2</th>\n",
       "      <td>20</td>\n",
       "      <td>A-21</td>\n",
       "      <td>MapQuest</td>\n",
       "      <td>201.0</td>\n",
       "      <td>2</td>\n",
       "      <td>2016-02-08 10:11:15</td>\n",
       "      <td>2016-02-08 10:41:15</td>\n",
       "      <td>40.052509</td>\n",
       "      <td>-82.882332</td>\n",
       "      <td>NaN</td>\n",
       "      <td>...</td>\n",
       "      <td>False</td>\n",
       "      <td>False</td>\n",
       "      <td>False</td>\n",
       "      <td>False</td>\n",
       "      <td>False</td>\n",
       "      <td>False</td>\n",
       "      <td>Day</td>\n",
       "      <td>Day</td>\n",
       "      <td>Day</td>\n",
       "      <td>Day</td>\n",
       "    </tr>\n",
       "    <tr>\n",
       "      <th>3</th>\n",
       "      <td>30</td>\n",
       "      <td>A-31</td>\n",
       "      <td>MapQuest</td>\n",
       "      <td>201.0</td>\n",
       "      <td>2</td>\n",
       "      <td>2016-02-08 16:16:08</td>\n",
       "      <td>2016-02-08 16:46:08</td>\n",
       "      <td>40.081459</td>\n",
       "      <td>-83.122398</td>\n",
       "      <td>NaN</td>\n",
       "      <td>...</td>\n",
       "      <td>False</td>\n",
       "      <td>False</td>\n",
       "      <td>False</td>\n",
       "      <td>False</td>\n",
       "      <td>True</td>\n",
       "      <td>False</td>\n",
       "      <td>Day</td>\n",
       "      <td>Day</td>\n",
       "      <td>Day</td>\n",
       "      <td>Day</td>\n",
       "    </tr>\n",
       "    <tr>\n",
       "      <th>4</th>\n",
       "      <td>40</td>\n",
       "      <td>A-41</td>\n",
       "      <td>MapQuest</td>\n",
       "      <td>201.0</td>\n",
       "      <td>2</td>\n",
       "      <td>2016-02-09 05:40:57</td>\n",
       "      <td>2016-02-09 06:10:57</td>\n",
       "      <td>39.447502</td>\n",
       "      <td>-84.191208</td>\n",
       "      <td>NaN</td>\n",
       "      <td>...</td>\n",
       "      <td>False</td>\n",
       "      <td>False</td>\n",
       "      <td>False</td>\n",
       "      <td>False</td>\n",
       "      <td>False</td>\n",
       "      <td>False</td>\n",
       "      <td>Night</td>\n",
       "      <td>Night</td>\n",
       "      <td>Night</td>\n",
       "      <td>Night</td>\n",
       "    </tr>\n",
       "  </tbody>\n",
       "</table>\n",
       "<p>5 rows × 50 columns</p>\n",
       "</div>"
      ],
      "text/plain": [
       "   Unnamed: 0    ID    Source    TMC  Severity           Start_Time  \\\n",
       "0           0   A-1  MapQuest  201.0         3  2016-02-08 05:46:00   \n",
       "1          10  A-11  MapQuest  201.0         3  2016-02-08 08:14:42   \n",
       "2          20  A-21  MapQuest  201.0         2  2016-02-08 10:11:15   \n",
       "3          30  A-31  MapQuest  201.0         2  2016-02-08 16:16:08   \n",
       "4          40  A-41  MapQuest  201.0         2  2016-02-09 05:40:57   \n",
       "\n",
       "              End_Time  Start_Lat  Start_Lng  End_Lat          ...           \\\n",
       "0  2016-02-08 11:00:00  39.865147 -84.058723      NaN          ...            \n",
       "1  2016-02-08 08:44:42  39.952812 -83.119293      NaN          ...            \n",
       "2  2016-02-08 10:41:15  40.052509 -82.882332      NaN          ...            \n",
       "3  2016-02-08 16:46:08  40.081459 -83.122398      NaN          ...            \n",
       "4  2016-02-09 06:10:57  39.447502 -84.191208      NaN          ...            \n",
       "\n",
       "   Roundabout  Station   Stop  Traffic_Calming Traffic_Signal Turning_Loop  \\\n",
       "0       False    False  False            False          False        False   \n",
       "1       False    False  False            False          False        False   \n",
       "2       False    False  False            False          False        False   \n",
       "3       False    False  False            False           True        False   \n",
       "4       False    False  False            False          False        False   \n",
       "\n",
       "  Sunrise_Sunset Civil_Twilight Nautical_Twilight Astronomical_Twilight  \n",
       "0          Night          Night             Night                 Night  \n",
       "1            Day            Day               Day                   Day  \n",
       "2            Day            Day               Day                   Day  \n",
       "3            Day            Day               Day                   Day  \n",
       "4          Night          Night             Night                 Night  \n",
       "\n",
       "[5 rows x 50 columns]"
      ]
     },
     "execution_count": 4,
     "metadata": {},
     "output_type": "execute_result"
    }
   ],
   "source": [
    "df.head()"
   ]
  },
  {
   "cell_type": "code",
   "execution_count": 5,
   "metadata": {},
   "outputs": [
    {
     "name": "stdout",
     "output_type": "stream",
     "text": [
      "Rows     :  297434\n",
      "Columns  :  50\n",
      "\n",
      "Features : \n",
      " ['Unnamed: 0', 'ID', 'Source', 'TMC', 'Severity', 'Start_Time', 'End_Time', 'Start_Lat', 'Start_Lng', 'End_Lat', 'End_Lng', 'Distance(mi)', 'Description', 'Number', 'Street', 'Side', 'City', 'County', 'State', 'Zipcode', 'Country', 'Timezone', 'Airport_Code', 'Weather_Timestamp', 'Temperature(F)', 'Wind_Chill(F)', 'Humidity(%)', 'Pressure(in)', 'Visibility(mi)', 'Wind_Direction', 'Wind_Speed(mph)', 'Precipitation(in)', 'Weather_Condition', 'Amenity', 'Bump', 'Crossing', 'Give_Way', 'Junction', 'No_Exit', 'Railway', 'Roundabout', 'Station', 'Stop', 'Traffic_Calming', 'Traffic_Signal', 'Turning_Loop', 'Sunrise_Sunset', 'Civil_Twilight', 'Nautical_Twilight', 'Astronomical_Twilight']\n",
      "\n",
      "Missing values :   1180644\n",
      "\n",
      "Unique values :  \n",
      " Unnamed: 0               297434\n",
      "ID                       297434\n",
      "Source                        3\n",
      "TMC                          20\n",
      "Severity                      4\n",
      "Start_Time               296010\n",
      "End_Time                 296227\n",
      "Start_Lat                195141\n",
      "Start_Lng                193920\n",
      "End_Lat                   53982\n",
      "End_Lng                   54327\n",
      "Distance(mi)               6124\n",
      "Description              237955\n",
      "Number                    17335\n",
      "Street                    51907\n",
      "Side                          2\n",
      "City                       7734\n",
      "County                     1401\n",
      "State                        49\n",
      "Zipcode                   75064\n",
      "Country                       1\n",
      "Timezone                      4\n",
      "Airport_Code               1763\n",
      "Weather_Timestamp        154145\n",
      "Temperature(F)              712\n",
      "Wind_Chill(F)               824\n",
      "Humidity(%)                 100\n",
      "Pressure(in)                872\n",
      "Visibility(mi)               56\n",
      "Wind_Direction               24\n",
      "Wind_Speed(mph)              84\n",
      "Precipitation(in)           152\n",
      "Weather_Condition            87\n",
      "Amenity                       2\n",
      "Bump                          2\n",
      "Crossing                      2\n",
      "Give_Way                      2\n",
      "Junction                      2\n",
      "No_Exit                       2\n",
      "Railway                       2\n",
      "Roundabout                    2\n",
      "Station                       2\n",
      "Stop                          2\n",
      "Traffic_Calming               2\n",
      "Traffic_Signal                2\n",
      "Turning_Loop                  1\n",
      "Sunrise_Sunset                2\n",
      "Civil_Twilight                2\n",
      "Nautical_Twilight             2\n",
      "Astronomical_Twilight         2\n",
      "dtype: int64\n"
     ]
    }
   ],
   "source": [
    "print (\"Rows     : \" ,df.shape[0])\n",
    "print (\"Columns  : \" ,df.shape[1])\n",
    "print (\"\\nFeatures : \\n\" ,df.columns.tolist())\n",
    "print (\"\\nMissing values :  \", df.isnull().sum().values.sum())\n",
    "print (\"\\nUnique values :  \\n\",df.nunique())"
   ]
  },
  {
   "cell_type": "code",
   "execution_count": 6,
   "metadata": {},
   "outputs": [
    {
     "data": {
      "text/plain": [
       "Unnamed: 0                    0\n",
       "ID                            0\n",
       "Source                        0\n",
       "TMC                       72807\n",
       "Severity                      0\n",
       "Start_Time                    0\n",
       "End_Time                      0\n",
       "Start_Lat                     0\n",
       "Start_Lng                     0\n",
       "End_Lat                  224627\n",
       "End_Lng                  224627\n",
       "Distance(mi)                  0\n",
       "Description                   0\n",
       "Number                   192299\n",
       "Street                        0\n",
       "Side                          0\n",
       "City                          6\n",
       "County                        0\n",
       "State                         0\n",
       "Zipcode                      85\n",
       "Country                       0\n",
       "Timezone                    304\n",
       "Airport_Code                556\n",
       "Weather_Timestamp          3533\n",
       "Temperature(F)             5463\n",
       "Wind_Chill(F)            185128\n",
       "Humidity(%)                5777\n",
       "Pressure(in)               4638\n",
       "Visibility(mi)             6377\n",
       "Wind_Direction             4359\n",
       "Wind_Speed(mph)           43708\n",
       "Precipitation(in)        199869\n",
       "Weather_Condition          6453\n",
       "Amenity                       0\n",
       "Bump                          0\n",
       "Crossing                      0\n",
       "Give_Way                      0\n",
       "Junction                      0\n",
       "No_Exit                       0\n",
       "Railway                       0\n",
       "Roundabout                    0\n",
       "Station                       0\n",
       "Stop                          0\n",
       "Traffic_Calming               0\n",
       "Traffic_Signal                0\n",
       "Turning_Loop                  0\n",
       "Sunrise_Sunset                7\n",
       "Civil_Twilight                7\n",
       "Nautical_Twilight             7\n",
       "Astronomical_Twilight         7\n",
       "dtype: int64"
      ]
     },
     "execution_count": 6,
     "metadata": {},
     "output_type": "execute_result"
    }
   ],
   "source": [
    "df.isnull().sum()"
   ]
  },
  {
   "cell_type": "code",
   "execution_count": 7,
   "metadata": {},
   "outputs": [
    {
     "data": {
      "text/plain": [
       "0    False\n",
       "1    False\n",
       "2    False\n",
       "3    False\n",
       "4    False\n",
       "Name: Amenity, dtype: bool"
      ]
     },
     "execution_count": 7,
     "metadata": {},
     "output_type": "execute_result"
    }
   ],
   "source": [
    "df['Amenity'][:5]"
   ]
  },
  {
   "cell_type": "code",
   "execution_count": 8,
   "metadata": {},
   "outputs": [
    {
     "data": {
      "text/plain": [
       "numpy.bool_"
      ]
     },
     "execution_count": 8,
     "metadata": {},
     "output_type": "execute_result"
    }
   ],
   "source": [
    "type(df['Amenity'][0])"
   ]
  },
  {
   "cell_type": "code",
   "execution_count": 9,
   "metadata": {},
   "outputs": [],
   "source": [
    "boolean_cols = ['Amenity', 'Bump', 'Crossing', 'Give_Way', 'Junction', 'No_Exit', \n",
    "                'Railway', 'Roundabout', 'Station', 'Stop', 'Traffic_Calming', 'Traffic_Signal', 'Turning_Loop']\n",
    "d = {False: \"No\", True: 'Yes'}\n",
    "for i in boolean_cols:\n",
    "    df[i] = df[i].map(d)"
   ]
  },
  {
   "cell_type": "code",
   "execution_count": 10,
   "metadata": {},
   "outputs": [
    {
     "data": {
      "text/plain": [
       "str"
      ]
     },
     "execution_count": 10,
     "metadata": {},
     "output_type": "execute_result"
    }
   ],
   "source": [
    "type(df['Amenity'][10])"
   ]
  },
  {
   "cell_type": "code",
   "execution_count": 11,
   "metadata": {},
   "outputs": [
    {
     "data": {
      "text/plain": [
       "str"
      ]
     },
     "execution_count": 11,
     "metadata": {},
     "output_type": "execute_result"
    }
   ],
   "source": [
    "type(df['End_Time'][0])"
   ]
  },
  {
   "cell_type": "code",
   "execution_count": 12,
   "metadata": {},
   "outputs": [
    {
     "data": {
      "text/plain": [
       "'2016-02-08 05:46:00'"
      ]
     },
     "execution_count": 12,
     "metadata": {},
     "output_type": "execute_result"
    }
   ],
   "source": [
    "df['Start_Time'][0]"
   ]
  },
  {
   "cell_type": "code",
   "execution_count": 13,
   "metadata": {},
   "outputs": [
    {
     "data": {
      "text/plain": [
       "'2016-02-08 08:14:42'"
      ]
     },
     "execution_count": 13,
     "metadata": {},
     "output_type": "execute_result"
    }
   ],
   "source": [
    "df['Start_Time'][1]"
   ]
  },
  {
   "cell_type": "code",
   "execution_count": 14,
   "metadata": {},
   "outputs": [],
   "source": [
    "def getDateColumn(time):\n",
    "    return time[:10]\n",
    "\n",
    "def getTimeNumericColumn(time):\n",
    "    return time[11:]\n",
    "\n",
    "df['Start Date'] = [getDateColumn(t) for t in df['Start_Time']]\n",
    "df['End Date'] = [getDateColumn(t) for t in df['End_Time']]\n",
    "df['Start Time'] = [getTimeNumericColumn(t) for t in df['Start_Time']]\n",
    "df['End Time'] = [getTimeNumericColumn(t) for t in df['End_Time']]"
   ]
  },
  {
   "cell_type": "code",
   "execution_count": 15,
   "metadata": {},
   "outputs": [],
   "source": [
    "def getHour(time):\n",
    "    return time[:2]\n",
    "\n",
    "df['Start Hour'] = [getHour(t) for t in df['Start Time']]\n",
    "df['End Hour'] = [getHour(t) for t in df['End Time']]"
   ]
  },
  {
   "cell_type": "code",
   "execution_count": 16,
   "metadata": {},
   "outputs": [
    {
     "data": {
      "text/plain": [
       "str"
      ]
     },
     "execution_count": 16,
     "metadata": {},
     "output_type": "execute_result"
    }
   ],
   "source": [
    "type(df['Start Hour'][0])"
   ]
  },
  {
   "cell_type": "code",
   "execution_count": 17,
   "metadata": {},
   "outputs": [],
   "source": [
    "df.rename(columns = {'Start_Lat': 'Latitude', 'Start_Lng': 'Longitude'}, inplace=True)"
   ]
  },
  {
   "cell_type": "code",
   "execution_count": 18,
   "metadata": {},
   "outputs": [],
   "source": [
    "from datetime import datetime"
   ]
  },
  {
   "cell_type": "code",
   "execution_count": 22,
   "metadata": {},
   "outputs": [],
   "source": [
    "def getDayOfWeekColumn(time):\n",
    "    return datetime.strptime(time, '%Y-%m-%d').date().strftime('%A')\n",
    "\n",
    "df['Day Of Week'] = [getDayOfWeekColumn(t) for t in df['Start Date']]"
   ]
  },
  {
   "cell_type": "code",
   "execution_count": 23,
   "metadata": {},
   "outputs": [
    {
     "data": {
      "text/plain": [
       "Tuesday      54422\n",
       "Friday       53768\n",
       "Wednesday    53693\n",
       "Thursday     52626\n",
       "Monday       50741\n",
       "Saturday     17045\n",
       "Sunday       15139\n",
       "Name: Day Of Week, dtype: int64"
      ]
     },
     "execution_count": 23,
     "metadata": {},
     "output_type": "execute_result"
    }
   ],
   "source": [
    "df['Day Of Week'].value_counts()"
   ]
  },
  {
   "cell_type": "code",
   "execution_count": 24,
   "metadata": {},
   "outputs": [
    {
     "data": {
      "text/plain": [
       "array(['2016-02-08', '2016-02-09', '2016-02-10', ..., '2017-05-29',\n",
       "       '2017-05-30', '2017-05-31'], dtype=object)"
      ]
     },
     "execution_count": 24,
     "metadata": {},
     "output_type": "execute_result"
    }
   ],
   "source": [
    "df['Start Date'].unique()"
   ]
  },
  {
   "cell_type": "code",
   "execution_count": 25,
   "metadata": {},
   "outputs": [
    {
     "data": {
      "text/plain": [
       "'2016-02'"
      ]
     },
     "execution_count": 25,
     "metadata": {},
     "output_type": "execute_result"
    }
   ],
   "source": [
    "df['Start Date'][0][:7]"
   ]
  },
  {
   "cell_type": "code",
   "execution_count": 26,
   "metadata": {},
   "outputs": [
    {
     "data": {
      "text/plain": [
       "'2016'"
      ]
     },
     "execution_count": 26,
     "metadata": {},
     "output_type": "execute_result"
    }
   ],
   "source": [
    "df['Start Date'][0][:4]"
   ]
  },
  {
   "cell_type": "code",
   "execution_count": 27,
   "metadata": {},
   "outputs": [],
   "source": [
    "def getMonthColumn(date):\n",
    "    return date[:7]\n",
    "\n",
    "def getYearColumn(date):\n",
    "    return date[:4]\n",
    "\n",
    "df['Month'] = [getMonthColumn(d) for d in df['Start_Time']]\n",
    "df['Year'] = [getYearColumn(d) for d in df['Start_Time']]"
   ]
  },
  {
   "cell_type": "code",
   "execution_count": 28,
   "metadata": {},
   "outputs": [
    {
     "data": {
      "text/plain": [
       "array(['2016', '2017', '2019', '2018'], dtype=object)"
      ]
     },
     "execution_count": 28,
     "metadata": {},
     "output_type": "execute_result"
    }
   ],
   "source": [
    "df['Year'].unique()"
   ]
  },
  {
   "cell_type": "code",
   "execution_count": 29,
   "metadata": {},
   "outputs": [
    {
     "data": {
      "text/plain": [
       "array(['2016-02', '2016-03', '2016-06', '2016-07', '2016-08', '2016-11',\n",
       "       '2016-12', '2017-01', '2016-10', '2016-09', '2016-04', '2016-05',\n",
       "       '2017-02', '2017-03', '2017-04', '2017-05', '2017-06', '2017-07',\n",
       "       '2019-12', '2019-11', '2019-10', '2019-09', '2019-08', '2019-07',\n",
       "       '2019-06', '2019-05', '2019-04', '2019-03', '2019-02', '2019-01',\n",
       "       '2018-12', '2018-11', '2018-10', '2018-09', '2018-08', '2018-07',\n",
       "       '2018-06', '2018-05', '2018-04', '2018-03', '2018-02', '2018-01',\n",
       "       '2017-12', '2017-11', '2017-10', '2017-09', '2017-08'],\n",
       "      dtype=object)"
      ]
     },
     "execution_count": 29,
     "metadata": {},
     "output_type": "execute_result"
    }
   ],
   "source": [
    "df['Month'].unique()"
   ]
  },
  {
   "cell_type": "code",
   "execution_count": 30,
   "metadata": {},
   "outputs": [
    {
     "data": {
      "text/plain": [
       "'2016-02-08 05:46:00'"
      ]
     },
     "execution_count": 30,
     "metadata": {},
     "output_type": "execute_result"
    }
   ],
   "source": [
    "df['Start_Time'][0]"
   ]
  },
  {
   "cell_type": "code",
   "execution_count": 31,
   "metadata": {},
   "outputs": [
    {
     "data": {
      "text/plain": [
       "'02'"
      ]
     },
     "execution_count": 31,
     "metadata": {},
     "output_type": "execute_result"
    }
   ],
   "source": [
    "df['Start_Time'][0][5:7]"
   ]
  },
  {
   "cell_type": "code",
   "execution_count": 32,
   "metadata": {},
   "outputs": [],
   "source": [
    "def getSeasonColumn(date):\n",
    "    if date[5:7] == '12' or date[5:7] == '01' or date[5:7] == '02':\n",
    "        return 'Winter'\n",
    "    elif date[5:7] == '03' or date[5:7] == '04' or date[5:7] == '05':\n",
    "        return 'Spring'\n",
    "    elif date[5:7] == '06' or date[5:7] == '07' or date[5:7] == '08':\n",
    "        return 'Summer'\n",
    "    else:\n",
    "        return 'Fall'\n",
    "\n",
    "df['Season'] = [getSeasonColumn(d) for d in df['Start_Time']]"
   ]
  },
  {
   "cell_type": "code",
   "execution_count": 33,
   "metadata": {},
   "outputs": [
    {
     "data": {
      "text/plain": [
       "Fall      91606\n",
       "Summer    72191\n",
       "Winter    70817\n",
       "Spring    62820\n",
       "Name: Season, dtype: int64"
      ]
     },
     "execution_count": 33,
     "metadata": {},
     "output_type": "execute_result"
    }
   ],
   "source": [
    "df['Season'].value_counts()"
   ]
  },
  {
   "cell_type": "code",
   "execution_count": 34,
   "metadata": {},
   "outputs": [
    {
     "data": {
      "text/plain": [
       "'2016-02-08 05:46:00'"
      ]
     },
     "execution_count": 34,
     "metadata": {},
     "output_type": "execute_result"
    }
   ],
   "source": [
    "df['Start_Time'][0]"
   ]
  },
  {
   "cell_type": "code",
   "execution_count": 35,
   "metadata": {},
   "outputs": [
    {
     "data": {
      "text/plain": [
       "'05'"
      ]
     },
     "execution_count": 35,
     "metadata": {},
     "output_type": "execute_result"
    }
   ],
   "source": [
    "df['Start_Time'][0][11:13]"
   ]
  },
  {
   "cell_type": "code",
   "execution_count": 36,
   "metadata": {},
   "outputs": [],
   "source": [
    "var = '12'\n",
    "if var >= '00' and var < '12':\n",
    "    print(var)"
   ]
  },
  {
   "cell_type": "code",
   "execution_count": 37,
   "metadata": {},
   "outputs": [
    {
     "name": "stdout",
     "output_type": "stream",
     "text": [
      "00\n",
      "23\n"
     ]
    }
   ],
   "source": [
    "print(df['Start Hour'].min())\n",
    "print(df['Start Hour'].max())"
   ]
  },
  {
   "cell_type": "code",
   "execution_count": 38,
   "metadata": {},
   "outputs": [
    {
     "data": {
      "text/plain": [
       "24"
      ]
     },
     "execution_count": 38,
     "metadata": {},
     "output_type": "execute_result"
    }
   ],
   "source": [
    "len(df['Start Hour'].value_counts().tolist())"
   ]
  },
  {
   "cell_type": "code",
   "execution_count": 39,
   "metadata": {},
   "outputs": [
    {
     "data": {
      "text/plain": [
       "'10'"
      ]
     },
     "execution_count": 39,
     "metadata": {},
     "output_type": "execute_result"
    }
   ],
   "source": [
    "df['Start_Time'][100][11:13]"
   ]
  },
  {
   "cell_type": "code",
   "execution_count": 40,
   "metadata": {},
   "outputs": [],
   "source": [
    "def getPartOfDayColumn(date):\n",
    "    if date[11:13] >= '06' and date[11:13] < '12':\n",
    "        return 'Morning'\n",
    "    elif date[11:13] >= '12' and date[11:13] < '17':\n",
    "        return 'Afternoon'\n",
    "    elif date[11:13] >= '17' and date[11:13] <'21':\n",
    "        return 'Evening'\n",
    "    else:\n",
    "        return 'Night'\n",
    "df['Part_Of_Day'] = [getPartOfDayColumn(d) for d in df['Start_Time']]"
   ]
  },
  {
   "cell_type": "code",
   "execution_count": 41,
   "metadata": {},
   "outputs": [
    {
     "data": {
      "text/plain": [
       "'2016-02-08 08:14:42'"
      ]
     },
     "execution_count": 41,
     "metadata": {},
     "output_type": "execute_result"
    }
   ],
   "source": [
    "df['Start_Time'][1]"
   ]
  },
  {
   "cell_type": "code",
   "execution_count": 42,
   "metadata": {},
   "outputs": [
    {
     "data": {
      "text/plain": [
       "'2016-02-08 08:44:42'"
      ]
     },
     "execution_count": 42,
     "metadata": {},
     "output_type": "execute_result"
    }
   ],
   "source": [
    "df['End_Time'][1]"
   ]
  },
  {
   "cell_type": "code",
   "execution_count": 43,
   "metadata": {},
   "outputs": [
    {
     "data": {
      "text/plain": [
       "1800"
      ]
     },
     "execution_count": 43,
     "metadata": {},
     "output_type": "execute_result"
    }
   ],
   "source": [
    "(datetime.strptime(df['End_Time'][1], '%Y-%m-%d %H:%M:%S') - datetime.strptime(df['Start_Time'][1], '%Y-%m-%d %H:%M:%S')).seconds"
   ]
  },
  {
   "cell_type": "code",
   "execution_count": 45,
   "metadata": {},
   "outputs": [
    {
     "data": {
      "text/plain": [
       "30.0"
      ]
     },
     "execution_count": 45,
     "metadata": {},
     "output_type": "execute_result"
    }
   ],
   "source": [
    "(datetime.strptime(df['End_Time'][1], '%Y-%m-%d %H:%M:%S') - datetime.strptime(df['Start_Time'][1], '%Y-%m-%d %H:%M:%S')).seconds/60"
   ]
  },
  {
   "cell_type": "code",
   "execution_count": 46,
   "metadata": {},
   "outputs": [
    {
     "data": {
      "text/plain": [
       "'2016-02-09 11:09:37'"
      ]
     },
     "execution_count": 46,
     "metadata": {},
     "output_type": "execute_result"
    }
   ],
   "source": [
    "df['Start_Time'][7]"
   ]
  },
  {
   "cell_type": "code",
   "execution_count": 47,
   "metadata": {},
   "outputs": [
    {
     "data": {
      "text/plain": [
       "'2016-02-09 11:39:37'"
      ]
     },
     "execution_count": 47,
     "metadata": {},
     "output_type": "execute_result"
    }
   ],
   "source": [
    "df['End_Time'][7]"
   ]
  },
  {
   "cell_type": "code",
   "execution_count": 48,
   "metadata": {},
   "outputs": [
    {
     "data": {
      "text/plain": [
       "1800"
      ]
     },
     "execution_count": 48,
     "metadata": {},
     "output_type": "execute_result"
    }
   ],
   "source": [
    "(datetime.strptime(df['End_Time'][2], '%Y-%m-%d %H:%M:%S') - datetime.strptime(df['Start_Time'][2], '%Y-%m-%d %H:%M:%S')).seconds"
   ]
  },
  {
   "cell_type": "code",
   "execution_count": 49,
   "metadata": {},
   "outputs": [],
   "source": [
    "def getSecondsBetweenStartEndTime(s,e):\n",
    "    return (datetime.strptime(e, '%Y-%m-%d %H:%M:%S') - datetime.strptime(s, '%Y-%m-%d %H:%M:%S')).seconds\n",
    "\n",
    "df['Time_Elapsed_From_Accident(Seconds)'] = [getSecondsBetweenStartEndTime(start, end) for (start, end) in zip(df['Start_Time'], df['End_Time'])]"
   ]
  },
  {
   "cell_type": "code",
   "execution_count": 50,
   "metadata": {},
   "outputs": [],
   "source": [
    "def getSecondsBetweenStartEndTime(s,e):\n",
    "    return (datetime.strptime(e, '%Y-%m-%d %H:%M:%S') - datetime.strptime(s, '%Y-%m-%d %H:%M:%S')).seconds/60\n",
    "\n",
    "df['Time_Elapsed_From_Accident(Minutes)'] = [getSecondsBetweenStartEndTime(start, end) for (start, end) in zip(df['Start_Time'], df['End_Time'])]"
   ]
  },
  {
   "cell_type": "code",
   "execution_count": 51,
   "metadata": {},
   "outputs": [
    {
     "data": {
      "text/plain": [
       "0     18840\n",
       "1      1800\n",
       "2      1800\n",
       "3      1800\n",
       "4      1800\n",
       "5      1800\n",
       "6      1800\n",
       "7      1800\n",
       "8      1800\n",
       "9      1800\n",
       "10     1800\n",
       "11     1800\n",
       "12     5880\n",
       "13     3600\n",
       "14     1800\n",
       "Name: Time_Elapsed_From_Accident(Seconds), dtype: int64"
      ]
     },
     "execution_count": 51,
     "metadata": {},
     "output_type": "execute_result"
    }
   ],
   "source": [
    "df['Time_Elapsed_From_Accident(Seconds)'][:15]"
   ]
  },
  {
   "cell_type": "code",
   "execution_count": 52,
   "metadata": {},
   "outputs": [
    {
     "data": {
      "text/plain": [
       "0     314.0\n",
       "1      30.0\n",
       "2      30.0\n",
       "3      30.0\n",
       "4      30.0\n",
       "5      30.0\n",
       "6      30.0\n",
       "7      30.0\n",
       "8      30.0\n",
       "9      30.0\n",
       "10     30.0\n",
       "11     30.0\n",
       "12     98.0\n",
       "13     60.0\n",
       "14     30.0\n",
       "Name: Time_Elapsed_From_Accident(Minutes), dtype: float64"
      ]
     },
     "execution_count": 52,
     "metadata": {},
     "output_type": "execute_result"
    }
   ],
   "source": [
    "df['Time_Elapsed_From_Accident(Minutes)'][:15]"
   ]
  },
  {
   "cell_type": "code",
   "execution_count": null,
   "metadata": {},
   "outputs": [],
   "source": []
  },
  {
   "cell_type": "code",
   "execution_count": 53,
   "metadata": {},
   "outputs": [],
   "source": [
    "df = df[['Unnamed: 0', 'ID', 'Source', 'TMC', 'Severity', 'Start_Time', 'End_Time', 'Time_Elapsed_From_Accident(Seconds)', \n",
    "         'Time_Elapsed_From_Accident(Minutes)', 'Month', 'Year',\n",
    "         'Start Date', 'End Date', 'Start Time', 'Season', 'Part_Of_Day',\n",
    "         'End Time', 'Start Hour', 'End Hour', 'Day Of Week', 'Latitude', 'Longitude', 'End_Lat', \n",
    "         'End_Lng', 'Distance(mi)', 'Description', 'Number', 'Street', 'Side', 'City', 'County', 'State', 'Zipcode', 'Country',\n",
    "         'Timezone', 'Airport_Code', 'Weather_Timestamp', 'Temperature(F)', 'Wind_Chill(F)', 'Humidity(%)', 'Pressure(in)', \n",
    "         'Visibility(mi)', 'Wind_Direction', 'Wind_Speed(mph)', 'Precipitation(in)', 'Weather_Condition', 'Amenity', 'Bump', \n",
    "         'Crossing', 'Give_Way', 'Junction', 'No_Exit', 'Railway', 'Roundabout', 'Station', 'Stop', 'Traffic_Calming', \n",
    "         'Traffic_Signal', 'Turning_Loop', 'Sunrise_Sunset', 'Civil_Twilight', 'Nautical_Twilight', 'Astronomical_Twilight']]"
   ]
  },
  {
   "cell_type": "code",
   "execution_count": 54,
   "metadata": {},
   "outputs": [
    {
     "data": {
      "text/plain": [
       "Index(['Unnamed: 0', 'ID', 'Source', 'TMC', 'Severity', 'Start_Time',\n",
       "       'End_Time', 'Time_Elapsed_From_Accident(Seconds)',\n",
       "       'Time_Elapsed_From_Accident(Minutes)', 'Month', 'Year', 'Start Date',\n",
       "       'End Date', 'Start Time', 'Season', 'Part_Of_Day', 'End Time',\n",
       "       'Start Hour', 'End Hour', 'Day Of Week', 'Latitude', 'Longitude',\n",
       "       'End_Lat', 'End_Lng', 'Distance(mi)', 'Description', 'Number', 'Street',\n",
       "       'Side', 'City', 'County', 'State', 'Zipcode', 'Country', 'Timezone',\n",
       "       'Airport_Code', 'Weather_Timestamp', 'Temperature(F)', 'Wind_Chill(F)',\n",
       "       'Humidity(%)', 'Pressure(in)', 'Visibility(mi)', 'Wind_Direction',\n",
       "       'Wind_Speed(mph)', 'Precipitation(in)', 'Weather_Condition', 'Amenity',\n",
       "       'Bump', 'Crossing', 'Give_Way', 'Junction', 'No_Exit', 'Railway',\n",
       "       'Roundabout', 'Station', 'Stop', 'Traffic_Calming', 'Traffic_Signal',\n",
       "       'Turning_Loop', 'Sunrise_Sunset', 'Civil_Twilight', 'Nautical_Twilight',\n",
       "       'Astronomical_Twilight'],\n",
       "      dtype='object')"
      ]
     },
     "execution_count": 54,
     "metadata": {},
     "output_type": "execute_result"
    }
   ],
   "source": [
    "df.columns"
   ]
  },
  {
   "cell_type": "code",
   "execution_count": 55,
   "metadata": {},
   "outputs": [
    {
     "name": "stdout",
     "output_type": "stream",
     "text": [
      "<class 'pandas.core.frame.DataFrame'>\n",
      "RangeIndex: 297434 entries, 0 to 297433\n",
      "Data columns (total 63 columns):\n",
      "Unnamed: 0                             297434 non-null int64\n",
      "ID                                     297434 non-null object\n",
      "Source                                 297434 non-null object\n",
      "TMC                                    224627 non-null float64\n",
      "Severity                               297434 non-null int64\n",
      "Start_Time                             297434 non-null object\n",
      "End_Time                               297434 non-null object\n",
      "Time_Elapsed_From_Accident(Seconds)    297434 non-null int64\n",
      "Time_Elapsed_From_Accident(Minutes)    297434 non-null float64\n",
      "Month                                  297434 non-null object\n",
      "Year                                   297434 non-null object\n",
      "Start Date                             297434 non-null object\n",
      "End Date                               297434 non-null object\n",
      "Start Time                             297434 non-null object\n",
      "Season                                 297434 non-null object\n",
      "Part_Of_Day                            297434 non-null object\n",
      "End Time                               297434 non-null object\n",
      "Start Hour                             297434 non-null object\n",
      "End Hour                               297434 non-null object\n",
      "Day Of Week                            297434 non-null object\n",
      "Latitude                               297434 non-null float64\n",
      "Longitude                              297434 non-null float64\n",
      "End_Lat                                72807 non-null float64\n",
      "End_Lng                                72807 non-null float64\n",
      "Distance(mi)                           297434 non-null float64\n",
      "Description                            297434 non-null object\n",
      "Number                                 105135 non-null float64\n",
      "Street                                 297434 non-null object\n",
      "Side                                   297434 non-null object\n",
      "City                                   297428 non-null object\n",
      "County                                 297434 non-null object\n",
      "State                                  297434 non-null object\n",
      "Zipcode                                297349 non-null object\n",
      "Country                                297434 non-null object\n",
      "Timezone                               297130 non-null object\n",
      "Airport_Code                           296878 non-null object\n",
      "Weather_Timestamp                      293901 non-null object\n",
      "Temperature(F)                         291971 non-null float64\n",
      "Wind_Chill(F)                          112306 non-null float64\n",
      "Humidity(%)                            291657 non-null float64\n",
      "Pressure(in)                           292796 non-null float64\n",
      "Visibility(mi)                         291057 non-null float64\n",
      "Wind_Direction                         293075 non-null object\n",
      "Wind_Speed(mph)                        253726 non-null float64\n",
      "Precipitation(in)                      97565 non-null float64\n",
      "Weather_Condition                      290981 non-null object\n",
      "Amenity                                297434 non-null object\n",
      "Bump                                   297434 non-null object\n",
      "Crossing                               297434 non-null object\n",
      "Give_Way                               297434 non-null object\n",
      "Junction                               297434 non-null object\n",
      "No_Exit                                297434 non-null object\n",
      "Railway                                297434 non-null object\n",
      "Roundabout                             297434 non-null object\n",
      "Station                                297434 non-null object\n",
      "Stop                                   297434 non-null object\n",
      "Traffic_Calming                        297434 non-null object\n",
      "Traffic_Signal                         297434 non-null object\n",
      "Turning_Loop                           297434 non-null object\n",
      "Sunrise_Sunset                         297427 non-null object\n",
      "Civil_Twilight                         297427 non-null object\n",
      "Nautical_Twilight                      297427 non-null object\n",
      "Astronomical_Twilight                  297427 non-null object\n",
      "dtypes: float64(15), int64(3), object(45)\n",
      "memory usage: 143.0+ MB\n"
     ]
    }
   ],
   "source": [
    "df.info()"
   ]
  },
  {
   "cell_type": "code",
   "execution_count": 57,
   "metadata": {},
   "outputs": [
    {
     "data": {
      "text/plain": [
       "Day      219472\n",
       "Night     77955\n",
       "Name: Sunrise_Sunset, dtype: int64"
      ]
     },
     "execution_count": 57,
     "metadata": {},
     "output_type": "execute_result"
    }
   ],
   "source": [
    "df['Sunrise_Sunset'].value_counts()"
   ]
  },
  {
   "cell_type": "code",
   "execution_count": 30,
   "metadata": {},
   "outputs": [
    {
     "data": {
      "text/plain": [
       "Day      234316\n",
       "Night     63111\n",
       "Name: Civil_Twilight, dtype: int64"
      ]
     },
     "execution_count": 30,
     "metadata": {},
     "output_type": "execute_result"
    }
   ],
   "source": [
    "df['Civil_Twilight'].value_counts()"
   ]
  },
  {
   "cell_type": "code",
   "execution_count": 31,
   "metadata": {},
   "outputs": [
    {
     "data": {
      "text/plain": [
       "Day      249336\n",
       "Night     48091\n",
       "Name: Nautical_Twilight, dtype: int64"
      ]
     },
     "execution_count": 31,
     "metadata": {},
     "output_type": "execute_result"
    }
   ],
   "source": [
    "df['Nautical_Twilight'].value_counts()"
   ]
  },
  {
   "cell_type": "code",
   "execution_count": 32,
   "metadata": {},
   "outputs": [
    {
     "data": {
      "text/plain": [
       "Day      260424\n",
       "Night     37003\n",
       "Name: Astronomical_Twilight, dtype: int64"
      ]
     },
     "execution_count": 32,
     "metadata": {},
     "output_type": "execute_result"
    }
   ],
   "source": [
    "df['Astronomical_Twilight'].value_counts()"
   ]
  },
  {
   "cell_type": "code",
   "execution_count": 33,
   "metadata": {},
   "outputs": [
    {
     "data": {
      "text/html": [
       "<div>\n",
       "<style scoped>\n",
       "    .dataframe tbody tr th:only-of-type {\n",
       "        vertical-align: middle;\n",
       "    }\n",
       "\n",
       "    .dataframe tbody tr th {\n",
       "        vertical-align: top;\n",
       "    }\n",
       "\n",
       "    .dataframe thead th {\n",
       "        text-align: right;\n",
       "    }\n",
       "</style>\n",
       "<table border=\"1\" class=\"dataframe\">\n",
       "  <thead>\n",
       "    <tr style=\"text-align: right;\">\n",
       "      <th></th>\n",
       "      <th>Unnamed: 0</th>\n",
       "      <th>ID</th>\n",
       "      <th>Source</th>\n",
       "      <th>TMC</th>\n",
       "      <th>Severity</th>\n",
       "      <th>Start_Time</th>\n",
       "      <th>End_Time</th>\n",
       "      <th>Month</th>\n",
       "      <th>Year</th>\n",
       "      <th>Start Date</th>\n",
       "      <th>...</th>\n",
       "      <th>Roundabout</th>\n",
       "      <th>Station</th>\n",
       "      <th>Stop</th>\n",
       "      <th>Traffic_Calming</th>\n",
       "      <th>Traffic_Signal</th>\n",
       "      <th>Turning_Loop</th>\n",
       "      <th>Sunrise_Sunset</th>\n",
       "      <th>Civil_Twilight</th>\n",
       "      <th>Nautical_Twilight</th>\n",
       "      <th>Astronomical_Twilight</th>\n",
       "    </tr>\n",
       "  </thead>\n",
       "  <tbody>\n",
       "    <tr>\n",
       "      <th>14146</th>\n",
       "      <td>141460</td>\n",
       "      <td>A-141462</td>\n",
       "      <td>MapQuest</td>\n",
       "      <td>201.0</td>\n",
       "      <td>3</td>\n",
       "      <td>2016-06-22 09:46:05</td>\n",
       "      <td>2016-06-22 10:31:05</td>\n",
       "      <td>2016-06</td>\n",
       "      <td>2016</td>\n",
       "      <td>2016-06-22</td>\n",
       "      <td>...</td>\n",
       "      <td>No</td>\n",
       "      <td>No</td>\n",
       "      <td>No</td>\n",
       "      <td>No</td>\n",
       "      <td>No</td>\n",
       "      <td>No</td>\n",
       "      <td>NaN</td>\n",
       "      <td>NaN</td>\n",
       "      <td>NaN</td>\n",
       "      <td>NaN</td>\n",
       "    </tr>\n",
       "    <tr>\n",
       "      <th>35850</th>\n",
       "      <td>358500</td>\n",
       "      <td>A-358503</td>\n",
       "      <td>MapQuest</td>\n",
       "      <td>201.0</td>\n",
       "      <td>3</td>\n",
       "      <td>2017-03-18 08:40:32</td>\n",
       "      <td>2017-03-18 09:10:08</td>\n",
       "      <td>2017-03</td>\n",
       "      <td>2017</td>\n",
       "      <td>2017-03-18</td>\n",
       "      <td>...</td>\n",
       "      <td>No</td>\n",
       "      <td>No</td>\n",
       "      <td>No</td>\n",
       "      <td>No</td>\n",
       "      <td>Yes</td>\n",
       "      <td>No</td>\n",
       "      <td>NaN</td>\n",
       "      <td>NaN</td>\n",
       "      <td>NaN</td>\n",
       "      <td>NaN</td>\n",
       "    </tr>\n",
       "    <tr>\n",
       "      <th>111574</th>\n",
       "      <td>1115740</td>\n",
       "      <td>A-1115754</td>\n",
       "      <td>MapQuest</td>\n",
       "      <td>201.0</td>\n",
       "      <td>2</td>\n",
       "      <td>2019-02-13 07:07:48</td>\n",
       "      <td>2019-02-13 07:52:29</td>\n",
       "      <td>2019-02</td>\n",
       "      <td>2019</td>\n",
       "      <td>2019-02-13</td>\n",
       "      <td>...</td>\n",
       "      <td>No</td>\n",
       "      <td>No</td>\n",
       "      <td>No</td>\n",
       "      <td>No</td>\n",
       "      <td>No</td>\n",
       "      <td>No</td>\n",
       "      <td>NaN</td>\n",
       "      <td>NaN</td>\n",
       "      <td>NaN</td>\n",
       "      <td>NaN</td>\n",
       "    </tr>\n",
       "    <tr>\n",
       "      <th>112736</th>\n",
       "      <td>1127360</td>\n",
       "      <td>A-1127374</td>\n",
       "      <td>MapQuest</td>\n",
       "      <td>201.0</td>\n",
       "      <td>2</td>\n",
       "      <td>2019-02-19 09:31:32</td>\n",
       "      <td>2019-02-19 10:01:18</td>\n",
       "      <td>2019-02</td>\n",
       "      <td>2019</td>\n",
       "      <td>2019-02-19</td>\n",
       "      <td>...</td>\n",
       "      <td>No</td>\n",
       "      <td>No</td>\n",
       "      <td>No</td>\n",
       "      <td>No</td>\n",
       "      <td>No</td>\n",
       "      <td>No</td>\n",
       "      <td>NaN</td>\n",
       "      <td>NaN</td>\n",
       "      <td>NaN</td>\n",
       "      <td>NaN</td>\n",
       "    </tr>\n",
       "    <tr>\n",
       "      <th>232519</th>\n",
       "      <td>2325190</td>\n",
       "      <td>A-2325214</td>\n",
       "      <td>Bing</td>\n",
       "      <td>NaN</td>\n",
       "      <td>2</td>\n",
       "      <td>2016-08-22 06:51:45</td>\n",
       "      <td>2016-08-22 12:51:45</td>\n",
       "      <td>2016-08</td>\n",
       "      <td>2016</td>\n",
       "      <td>2016-08-22</td>\n",
       "      <td>...</td>\n",
       "      <td>No</td>\n",
       "      <td>No</td>\n",
       "      <td>No</td>\n",
       "      <td>No</td>\n",
       "      <td>No</td>\n",
       "      <td>No</td>\n",
       "      <td>NaN</td>\n",
       "      <td>NaN</td>\n",
       "      <td>NaN</td>\n",
       "      <td>NaN</td>\n",
       "    </tr>\n",
       "    <tr>\n",
       "      <th>232868</th>\n",
       "      <td>2328680</td>\n",
       "      <td>A-2328704</td>\n",
       "      <td>Bing</td>\n",
       "      <td>NaN</td>\n",
       "      <td>2</td>\n",
       "      <td>2016-09-01 09:14:56</td>\n",
       "      <td>2016-09-01 15:14:56</td>\n",
       "      <td>2016-09</td>\n",
       "      <td>2016</td>\n",
       "      <td>2016-09-01</td>\n",
       "      <td>...</td>\n",
       "      <td>No</td>\n",
       "      <td>No</td>\n",
       "      <td>No</td>\n",
       "      <td>No</td>\n",
       "      <td>No</td>\n",
       "      <td>No</td>\n",
       "      <td>NaN</td>\n",
       "      <td>NaN</td>\n",
       "      <td>NaN</td>\n",
       "      <td>NaN</td>\n",
       "    </tr>\n",
       "    <tr>\n",
       "      <th>278883</th>\n",
       "      <td>2788830</td>\n",
       "      <td>A-2788854</td>\n",
       "      <td>Bing</td>\n",
       "      <td>NaN</td>\n",
       "      <td>2</td>\n",
       "      <td>2018-04-09 19:18:06</td>\n",
       "      <td>2018-04-10 01:18:06</td>\n",
       "      <td>2018-04</td>\n",
       "      <td>2018</td>\n",
       "      <td>2018-04-09</td>\n",
       "      <td>...</td>\n",
       "      <td>No</td>\n",
       "      <td>No</td>\n",
       "      <td>No</td>\n",
       "      <td>No</td>\n",
       "      <td>No</td>\n",
       "      <td>No</td>\n",
       "      <td>NaN</td>\n",
       "      <td>NaN</td>\n",
       "      <td>NaN</td>\n",
       "      <td>NaN</td>\n",
       "    </tr>\n",
       "  </tbody>\n",
       "</table>\n",
       "<p>7 rows × 59 columns</p>\n",
       "</div>"
      ],
      "text/plain": [
       "        Unnamed: 0         ID    Source    TMC  Severity           Start_Time  \\\n",
       "14146       141460   A-141462  MapQuest  201.0         3  2016-06-22 09:46:05   \n",
       "35850       358500   A-358503  MapQuest  201.0         3  2017-03-18 08:40:32   \n",
       "111574     1115740  A-1115754  MapQuest  201.0         2  2019-02-13 07:07:48   \n",
       "112736     1127360  A-1127374  MapQuest  201.0         2  2019-02-19 09:31:32   \n",
       "232519     2325190  A-2325214      Bing    NaN         2  2016-08-22 06:51:45   \n",
       "232868     2328680  A-2328704      Bing    NaN         2  2016-09-01 09:14:56   \n",
       "278883     2788830  A-2788854      Bing    NaN         2  2018-04-09 19:18:06   \n",
       "\n",
       "                   End_Time    Month  Year  Start Date          ...            \\\n",
       "14146   2016-06-22 10:31:05  2016-06  2016  2016-06-22          ...             \n",
       "35850   2017-03-18 09:10:08  2017-03  2017  2017-03-18          ...             \n",
       "111574  2019-02-13 07:52:29  2019-02  2019  2019-02-13          ...             \n",
       "112736  2019-02-19 10:01:18  2019-02  2019  2019-02-19          ...             \n",
       "232519  2016-08-22 12:51:45  2016-08  2016  2016-08-22          ...             \n",
       "232868  2016-09-01 15:14:56  2016-09  2016  2016-09-01          ...             \n",
       "278883  2018-04-10 01:18:06  2018-04  2018  2018-04-09          ...             \n",
       "\n",
       "       Roundabout Station Stop Traffic_Calming Traffic_Signal Turning_Loop  \\\n",
       "14146          No      No   No              No             No           No   \n",
       "35850          No      No   No              No            Yes           No   \n",
       "111574         No      No   No              No             No           No   \n",
       "112736         No      No   No              No             No           No   \n",
       "232519         No      No   No              No             No           No   \n",
       "232868         No      No   No              No             No           No   \n",
       "278883         No      No   No              No             No           No   \n",
       "\n",
       "        Sunrise_Sunset  Civil_Twilight  Nautical_Twilight  \\\n",
       "14146              NaN             NaN                NaN   \n",
       "35850              NaN             NaN                NaN   \n",
       "111574             NaN             NaN                NaN   \n",
       "112736             NaN             NaN                NaN   \n",
       "232519             NaN             NaN                NaN   \n",
       "232868             NaN             NaN                NaN   \n",
       "278883             NaN             NaN                NaN   \n",
       "\n",
       "        Astronomical_Twilight  \n",
       "14146                     NaN  \n",
       "35850                     NaN  \n",
       "111574                    NaN  \n",
       "112736                    NaN  \n",
       "232519                    NaN  \n",
       "232868                    NaN  \n",
       "278883                    NaN  \n",
       "\n",
       "[7 rows x 59 columns]"
      ]
     },
     "execution_count": 33,
     "metadata": {},
     "output_type": "execute_result"
    }
   ],
   "source": [
    "df[df['Sunrise_Sunset'].isnull()]"
   ]
  },
  {
   "cell_type": "code",
   "execution_count": 30,
   "metadata": {},
   "outputs": [
    {
     "data": {
      "text/plain": [
       "Day      28186\n",
       "Night       14\n",
       "Name: Sunrise_Sunset, dtype: int64"
      ]
     },
     "execution_count": 30,
     "metadata": {},
     "output_type": "execute_result"
    }
   ],
   "source": [
    "df[df['Start Hour'] == '08']['Sunrise_Sunset'].value_counts()"
   ]
  },
  {
   "cell_type": "code",
   "execution_count": 31,
   "metadata": {},
   "outputs": [
    {
     "data": {
      "text/plain": [
       "Day    17912\n",
       "Name: Sunrise_Sunset, dtype: int64"
      ]
     },
     "execution_count": 31,
     "metadata": {},
     "output_type": "execute_result"
    }
   ],
   "source": [
    "df[df['Start Hour'] == '09']['Sunrise_Sunset'].value_counts()"
   ]
  },
  {
   "cell_type": "code",
   "execution_count": 36,
   "metadata": {},
   "outputs": [
    {
     "data": {
      "text/plain": [
       "Day    15845\n",
       "Name: Sunrise_Sunset, dtype: int64"
      ]
     },
     "execution_count": 36,
     "metadata": {},
     "output_type": "execute_result"
    }
   ],
   "source": [
    "df[df['Start Hour'] == '10']['Sunrise_Sunset'].value_counts()"
   ]
  },
  {
   "cell_type": "code",
   "execution_count": 37,
   "metadata": {},
   "outputs": [
    {
     "data": {
      "text/plain": [
       "Night    11721\n",
       "Day       5268\n",
       "Name: Sunrise_Sunset, dtype: int64"
      ]
     },
     "execution_count": 37,
     "metadata": {},
     "output_type": "execute_result"
    }
   ],
   "source": [
    "df[df['Start Hour'] == '06']['Sunrise_Sunset'].value_counts()"
   ]
  },
  {
   "cell_type": "code",
   "execution_count": 38,
   "metadata": {},
   "outputs": [
    {
     "data": {
      "text/plain": [
       "Day      23314\n",
       "Night     4110\n",
       "Name: Sunrise_Sunset, dtype: int64"
      ]
     },
     "execution_count": 38,
     "metadata": {},
     "output_type": "execute_result"
    }
   ],
   "source": [
    "df[df['Start Hour'] == '07']['Sunrise_Sunset'].value_counts()"
   ]
  },
  {
   "cell_type": "code",
   "execution_count": 39,
   "metadata": {},
   "outputs": [
    {
     "data": {
      "text/plain": [
       "Day      9442\n",
       "Night    7193\n",
       "Name: Sunrise_Sunset, dtype: int64"
      ]
     },
     "execution_count": 39,
     "metadata": {},
     "output_type": "execute_result"
    }
   ],
   "source": [
    "df[df['Start Hour'] == '18']['Sunrise_Sunset'].value_counts()"
   ]
  },
  {
   "cell_type": "code",
   "execution_count": 40,
   "metadata": {},
   "outputs": [
    {
     "data": {
      "text/plain": [
       "Night    7207\n",
       "Day      4372\n",
       "Name: Sunrise_Sunset, dtype: int64"
      ]
     },
     "execution_count": 40,
     "metadata": {},
     "output_type": "execute_result"
    }
   ],
   "source": [
    "df[df['Start Hour'] == '19']['Sunrise_Sunset'].value_counts()"
   ]
  },
  {
   "cell_type": "code",
   "execution_count": 32,
   "metadata": {},
   "outputs": [
    {
     "data": {
      "text/html": [
       "<div>\n",
       "<style scoped>\n",
       "    .dataframe tbody tr th:only-of-type {\n",
       "        vertical-align: middle;\n",
       "    }\n",
       "\n",
       "    .dataframe tbody tr th {\n",
       "        vertical-align: top;\n",
       "    }\n",
       "\n",
       "    .dataframe thead th {\n",
       "        text-align: right;\n",
       "    }\n",
       "</style>\n",
       "<table border=\"1\" class=\"dataframe\">\n",
       "  <thead>\n",
       "    <tr style=\"text-align: right;\">\n",
       "      <th></th>\n",
       "      <th>Unnamed: 0</th>\n",
       "      <th>ID</th>\n",
       "      <th>Source</th>\n",
       "      <th>TMC</th>\n",
       "      <th>Severity</th>\n",
       "      <th>Start_Time</th>\n",
       "      <th>End_Time</th>\n",
       "      <th>Month</th>\n",
       "      <th>Year</th>\n",
       "      <th>Start Date</th>\n",
       "      <th>...</th>\n",
       "      <th>Roundabout</th>\n",
       "      <th>Station</th>\n",
       "      <th>Stop</th>\n",
       "      <th>Traffic_Calming</th>\n",
       "      <th>Traffic_Signal</th>\n",
       "      <th>Turning_Loop</th>\n",
       "      <th>Sunrise_Sunset</th>\n",
       "      <th>Civil_Twilight</th>\n",
       "      <th>Nautical_Twilight</th>\n",
       "      <th>Astronomical_Twilight</th>\n",
       "    </tr>\n",
       "  </thead>\n",
       "  <tbody>\n",
       "    <tr>\n",
       "      <th>14146</th>\n",
       "      <td>141460</td>\n",
       "      <td>A-141462</td>\n",
       "      <td>MapQuest</td>\n",
       "      <td>201.0</td>\n",
       "      <td>3</td>\n",
       "      <td>2016-06-22 09:46:05</td>\n",
       "      <td>2016-06-22 10:31:05</td>\n",
       "      <td>2016-06</td>\n",
       "      <td>2016</td>\n",
       "      <td>2016-06-22</td>\n",
       "      <td>...</td>\n",
       "      <td>No</td>\n",
       "      <td>No</td>\n",
       "      <td>No</td>\n",
       "      <td>No</td>\n",
       "      <td>No</td>\n",
       "      <td>No</td>\n",
       "      <td>NaN</td>\n",
       "      <td>NaN</td>\n",
       "      <td>NaN</td>\n",
       "      <td>NaN</td>\n",
       "    </tr>\n",
       "    <tr>\n",
       "      <th>35850</th>\n",
       "      <td>358500</td>\n",
       "      <td>A-358503</td>\n",
       "      <td>MapQuest</td>\n",
       "      <td>201.0</td>\n",
       "      <td>3</td>\n",
       "      <td>2017-03-18 08:40:32</td>\n",
       "      <td>2017-03-18 09:10:08</td>\n",
       "      <td>2017-03</td>\n",
       "      <td>2017</td>\n",
       "      <td>2017-03-18</td>\n",
       "      <td>...</td>\n",
       "      <td>No</td>\n",
       "      <td>No</td>\n",
       "      <td>No</td>\n",
       "      <td>No</td>\n",
       "      <td>Yes</td>\n",
       "      <td>No</td>\n",
       "      <td>NaN</td>\n",
       "      <td>NaN</td>\n",
       "      <td>NaN</td>\n",
       "      <td>NaN</td>\n",
       "    </tr>\n",
       "    <tr>\n",
       "      <th>111574</th>\n",
       "      <td>1115740</td>\n",
       "      <td>A-1115754</td>\n",
       "      <td>MapQuest</td>\n",
       "      <td>201.0</td>\n",
       "      <td>2</td>\n",
       "      <td>2019-02-13 07:07:48</td>\n",
       "      <td>2019-02-13 07:52:29</td>\n",
       "      <td>2019-02</td>\n",
       "      <td>2019</td>\n",
       "      <td>2019-02-13</td>\n",
       "      <td>...</td>\n",
       "      <td>No</td>\n",
       "      <td>No</td>\n",
       "      <td>No</td>\n",
       "      <td>No</td>\n",
       "      <td>No</td>\n",
       "      <td>No</td>\n",
       "      <td>NaN</td>\n",
       "      <td>NaN</td>\n",
       "      <td>NaN</td>\n",
       "      <td>NaN</td>\n",
       "    </tr>\n",
       "    <tr>\n",
       "      <th>112736</th>\n",
       "      <td>1127360</td>\n",
       "      <td>A-1127374</td>\n",
       "      <td>MapQuest</td>\n",
       "      <td>201.0</td>\n",
       "      <td>2</td>\n",
       "      <td>2019-02-19 09:31:32</td>\n",
       "      <td>2019-02-19 10:01:18</td>\n",
       "      <td>2019-02</td>\n",
       "      <td>2019</td>\n",
       "      <td>2019-02-19</td>\n",
       "      <td>...</td>\n",
       "      <td>No</td>\n",
       "      <td>No</td>\n",
       "      <td>No</td>\n",
       "      <td>No</td>\n",
       "      <td>No</td>\n",
       "      <td>No</td>\n",
       "      <td>NaN</td>\n",
       "      <td>NaN</td>\n",
       "      <td>NaN</td>\n",
       "      <td>NaN</td>\n",
       "    </tr>\n",
       "    <tr>\n",
       "      <th>232519</th>\n",
       "      <td>2325190</td>\n",
       "      <td>A-2325214</td>\n",
       "      <td>Bing</td>\n",
       "      <td>NaN</td>\n",
       "      <td>2</td>\n",
       "      <td>2016-08-22 06:51:45</td>\n",
       "      <td>2016-08-22 12:51:45</td>\n",
       "      <td>2016-08</td>\n",
       "      <td>2016</td>\n",
       "      <td>2016-08-22</td>\n",
       "      <td>...</td>\n",
       "      <td>No</td>\n",
       "      <td>No</td>\n",
       "      <td>No</td>\n",
       "      <td>No</td>\n",
       "      <td>No</td>\n",
       "      <td>No</td>\n",
       "      <td>NaN</td>\n",
       "      <td>NaN</td>\n",
       "      <td>NaN</td>\n",
       "      <td>NaN</td>\n",
       "    </tr>\n",
       "    <tr>\n",
       "      <th>232868</th>\n",
       "      <td>2328680</td>\n",
       "      <td>A-2328704</td>\n",
       "      <td>Bing</td>\n",
       "      <td>NaN</td>\n",
       "      <td>2</td>\n",
       "      <td>2016-09-01 09:14:56</td>\n",
       "      <td>2016-09-01 15:14:56</td>\n",
       "      <td>2016-09</td>\n",
       "      <td>2016</td>\n",
       "      <td>2016-09-01</td>\n",
       "      <td>...</td>\n",
       "      <td>No</td>\n",
       "      <td>No</td>\n",
       "      <td>No</td>\n",
       "      <td>No</td>\n",
       "      <td>No</td>\n",
       "      <td>No</td>\n",
       "      <td>NaN</td>\n",
       "      <td>NaN</td>\n",
       "      <td>NaN</td>\n",
       "      <td>NaN</td>\n",
       "    </tr>\n",
       "    <tr>\n",
       "      <th>278883</th>\n",
       "      <td>2788830</td>\n",
       "      <td>A-2788854</td>\n",
       "      <td>Bing</td>\n",
       "      <td>NaN</td>\n",
       "      <td>2</td>\n",
       "      <td>2018-04-09 19:18:06</td>\n",
       "      <td>2018-04-10 01:18:06</td>\n",
       "      <td>2018-04</td>\n",
       "      <td>2018</td>\n",
       "      <td>2018-04-09</td>\n",
       "      <td>...</td>\n",
       "      <td>No</td>\n",
       "      <td>No</td>\n",
       "      <td>No</td>\n",
       "      <td>No</td>\n",
       "      <td>No</td>\n",
       "      <td>No</td>\n",
       "      <td>NaN</td>\n",
       "      <td>NaN</td>\n",
       "      <td>NaN</td>\n",
       "      <td>NaN</td>\n",
       "    </tr>\n",
       "  </tbody>\n",
       "</table>\n",
       "<p>7 rows × 59 columns</p>\n",
       "</div>"
      ],
      "text/plain": [
       "        Unnamed: 0         ID    Source    TMC  Severity           Start_Time  \\\n",
       "14146       141460   A-141462  MapQuest  201.0         3  2016-06-22 09:46:05   \n",
       "35850       358500   A-358503  MapQuest  201.0         3  2017-03-18 08:40:32   \n",
       "111574     1115740  A-1115754  MapQuest  201.0         2  2019-02-13 07:07:48   \n",
       "112736     1127360  A-1127374  MapQuest  201.0         2  2019-02-19 09:31:32   \n",
       "232519     2325190  A-2325214      Bing    NaN         2  2016-08-22 06:51:45   \n",
       "232868     2328680  A-2328704      Bing    NaN         2  2016-09-01 09:14:56   \n",
       "278883     2788830  A-2788854      Bing    NaN         2  2018-04-09 19:18:06   \n",
       "\n",
       "                   End_Time    Month  Year  Start Date          ...            \\\n",
       "14146   2016-06-22 10:31:05  2016-06  2016  2016-06-22          ...             \n",
       "35850   2017-03-18 09:10:08  2017-03  2017  2017-03-18          ...             \n",
       "111574  2019-02-13 07:52:29  2019-02  2019  2019-02-13          ...             \n",
       "112736  2019-02-19 10:01:18  2019-02  2019  2019-02-19          ...             \n",
       "232519  2016-08-22 12:51:45  2016-08  2016  2016-08-22          ...             \n",
       "232868  2016-09-01 15:14:56  2016-09  2016  2016-09-01          ...             \n",
       "278883  2018-04-10 01:18:06  2018-04  2018  2018-04-09          ...             \n",
       "\n",
       "       Roundabout Station Stop Traffic_Calming Traffic_Signal Turning_Loop  \\\n",
       "14146          No      No   No              No             No           No   \n",
       "35850          No      No   No              No            Yes           No   \n",
       "111574         No      No   No              No             No           No   \n",
       "112736         No      No   No              No             No           No   \n",
       "232519         No      No   No              No             No           No   \n",
       "232868         No      No   No              No             No           No   \n",
       "278883         No      No   No              No             No           No   \n",
       "\n",
       "        Sunrise_Sunset  Civil_Twilight  Nautical_Twilight  \\\n",
       "14146              NaN             NaN                NaN   \n",
       "35850              NaN             NaN                NaN   \n",
       "111574             NaN             NaN                NaN   \n",
       "112736             NaN             NaN                NaN   \n",
       "232519             NaN             NaN                NaN   \n",
       "232868             NaN             NaN                NaN   \n",
       "278883             NaN             NaN                NaN   \n",
       "\n",
       "        Astronomical_Twilight  \n",
       "14146                     NaN  \n",
       "35850                     NaN  \n",
       "111574                    NaN  \n",
       "112736                    NaN  \n",
       "232519                    NaN  \n",
       "232868                    NaN  \n",
       "278883                    NaN  \n",
       "\n",
       "[7 rows x 59 columns]"
      ]
     },
     "execution_count": 32,
     "metadata": {},
     "output_type": "execute_result"
    }
   ],
   "source": [
    "df[df['Sunrise_Sunset'].isnull()]"
   ]
  },
  {
   "cell_type": "code",
   "execution_count": 33,
   "metadata": {},
   "outputs": [
    {
     "data": {
      "text/plain": [
       "nan"
      ]
     },
     "execution_count": 33,
     "metadata": {},
     "output_type": "execute_result"
    }
   ],
   "source": [
    "df['Sunrise_Sunset'][14146]"
   ]
  },
  {
   "cell_type": "code",
   "execution_count": 56,
   "metadata": {},
   "outputs": [
    {
     "name": "stderr",
     "output_type": "stream",
     "text": [
      "C:\\Users\\peech\\Anaconda3\\lib\\site-packages\\ipykernel_launcher.py:6: SettingWithCopyWarning: \n",
      "A value is trying to be set on a copy of a slice from a DataFrame\n",
      "\n",
      "See the caveats in the documentation: http://pandas.pydata.org/pandas-docs/stable/indexing.html#indexing-view-versus-copy\n",
      "  \n",
      "C:\\Users\\peech\\Anaconda3\\lib\\site-packages\\ipykernel_launcher.py:7: SettingWithCopyWarning: \n",
      "A value is trying to be set on a copy of a slice from a DataFrame\n",
      "\n",
      "See the caveats in the documentation: http://pandas.pydata.org/pandas-docs/stable/indexing.html#indexing-view-versus-copy\n",
      "  import sys\n",
      "C:\\Users\\peech\\Anaconda3\\lib\\site-packages\\ipykernel_launcher.py:8: SettingWithCopyWarning: \n",
      "A value is trying to be set on a copy of a slice from a DataFrame\n",
      "\n",
      "See the caveats in the documentation: http://pandas.pydata.org/pandas-docs/stable/indexing.html#indexing-view-versus-copy\n",
      "  \n",
      "C:\\Users\\peech\\Anaconda3\\lib\\site-packages\\ipykernel_launcher.py:9: SettingWithCopyWarning: \n",
      "A value is trying to be set on a copy of a slice from a DataFrame\n",
      "\n",
      "See the caveats in the documentation: http://pandas.pydata.org/pandas-docs/stable/indexing.html#indexing-view-versus-copy\n",
      "  if __name__ == '__main__':\n",
      "C:\\Users\\peech\\Anaconda3\\lib\\site-packages\\ipykernel_launcher.py:11: SettingWithCopyWarning: \n",
      "A value is trying to be set on a copy of a slice from a DataFrame\n",
      "\n",
      "See the caveats in the documentation: http://pandas.pydata.org/pandas-docs/stable/indexing.html#indexing-view-versus-copy\n",
      "  # This is added back by InteractiveShellApp.init_path()\n",
      "C:\\Users\\peech\\Anaconda3\\lib\\site-packages\\ipykernel_launcher.py:12: SettingWithCopyWarning: \n",
      "A value is trying to be set on a copy of a slice from a DataFrame\n",
      "\n",
      "See the caveats in the documentation: http://pandas.pydata.org/pandas-docs/stable/indexing.html#indexing-view-versus-copy\n",
      "  if sys.path[0] == '':\n",
      "C:\\Users\\peech\\Anaconda3\\lib\\site-packages\\ipykernel_launcher.py:13: SettingWithCopyWarning: \n",
      "A value is trying to be set on a copy of a slice from a DataFrame\n",
      "\n",
      "See the caveats in the documentation: http://pandas.pydata.org/pandas-docs/stable/indexing.html#indexing-view-versus-copy\n",
      "  del sys.path[0]\n",
      "C:\\Users\\peech\\Anaconda3\\lib\\site-packages\\ipykernel_launcher.py:14: SettingWithCopyWarning: \n",
      "A value is trying to be set on a copy of a slice from a DataFrame\n",
      "\n",
      "See the caveats in the documentation: http://pandas.pydata.org/pandas-docs/stable/indexing.html#indexing-view-versus-copy\n",
      "  \n",
      "C:\\Users\\peech\\Anaconda3\\lib\\site-packages\\ipykernel_launcher.py:16: SettingWithCopyWarning: \n",
      "A value is trying to be set on a copy of a slice from a DataFrame\n",
      "\n",
      "See the caveats in the documentation: http://pandas.pydata.org/pandas-docs/stable/indexing.html#indexing-view-versus-copy\n",
      "  app.launch_new_instance()\n",
      "C:\\Users\\peech\\Anaconda3\\lib\\site-packages\\ipykernel_launcher.py:17: SettingWithCopyWarning: \n",
      "A value is trying to be set on a copy of a slice from a DataFrame\n",
      "\n",
      "See the caveats in the documentation: http://pandas.pydata.org/pandas-docs/stable/indexing.html#indexing-view-versus-copy\n",
      "C:\\Users\\peech\\Anaconda3\\lib\\site-packages\\ipykernel_launcher.py:18: SettingWithCopyWarning: \n",
      "A value is trying to be set on a copy of a slice from a DataFrame\n",
      "\n",
      "See the caveats in the documentation: http://pandas.pydata.org/pandas-docs/stable/indexing.html#indexing-view-versus-copy\n",
      "C:\\Users\\peech\\Anaconda3\\lib\\site-packages\\ipykernel_launcher.py:19: SettingWithCopyWarning: \n",
      "A value is trying to be set on a copy of a slice from a DataFrame\n",
      "\n",
      "See the caveats in the documentation: http://pandas.pydata.org/pandas-docs/stable/indexing.html#indexing-view-versus-copy\n",
      "C:\\Users\\peech\\Anaconda3\\lib\\site-packages\\ipykernel_launcher.py:21: SettingWithCopyWarning: \n",
      "A value is trying to be set on a copy of a slice from a DataFrame\n",
      "\n",
      "See the caveats in the documentation: http://pandas.pydata.org/pandas-docs/stable/indexing.html#indexing-view-versus-copy\n",
      "C:\\Users\\peech\\Anaconda3\\lib\\site-packages\\ipykernel_launcher.py:22: SettingWithCopyWarning: \n",
      "A value is trying to be set on a copy of a slice from a DataFrame\n",
      "\n",
      "See the caveats in the documentation: http://pandas.pydata.org/pandas-docs/stable/indexing.html#indexing-view-versus-copy\n",
      "C:\\Users\\peech\\Anaconda3\\lib\\site-packages\\ipykernel_launcher.py:23: SettingWithCopyWarning: \n",
      "A value is trying to be set on a copy of a slice from a DataFrame\n",
      "\n",
      "See the caveats in the documentation: http://pandas.pydata.org/pandas-docs/stable/indexing.html#indexing-view-versus-copy\n",
      "C:\\Users\\peech\\Anaconda3\\lib\\site-packages\\ipykernel_launcher.py:24: SettingWithCopyWarning: \n",
      "A value is trying to be set on a copy of a slice from a DataFrame\n",
      "\n",
      "See the caveats in the documentation: http://pandas.pydata.org/pandas-docs/stable/indexing.html#indexing-view-versus-copy\n",
      "C:\\Users\\peech\\Anaconda3\\lib\\site-packages\\ipykernel_launcher.py:26: SettingWithCopyWarning: \n",
      "A value is trying to be set on a copy of a slice from a DataFrame\n",
      "\n",
      "See the caveats in the documentation: http://pandas.pydata.org/pandas-docs/stable/indexing.html#indexing-view-versus-copy\n",
      "C:\\Users\\peech\\Anaconda3\\lib\\site-packages\\ipykernel_launcher.py:27: SettingWithCopyWarning: \n",
      "A value is trying to be set on a copy of a slice from a DataFrame\n",
      "\n",
      "See the caveats in the documentation: http://pandas.pydata.org/pandas-docs/stable/indexing.html#indexing-view-versus-copy\n",
      "C:\\Users\\peech\\Anaconda3\\lib\\site-packages\\ipykernel_launcher.py:28: SettingWithCopyWarning: \n",
      "A value is trying to be set on a copy of a slice from a DataFrame\n",
      "\n",
      "See the caveats in the documentation: http://pandas.pydata.org/pandas-docs/stable/indexing.html#indexing-view-versus-copy\n",
      "C:\\Users\\peech\\Anaconda3\\lib\\site-packages\\ipykernel_launcher.py:29: SettingWithCopyWarning: \n",
      "A value is trying to be set on a copy of a slice from a DataFrame\n",
      "\n",
      "See the caveats in the documentation: http://pandas.pydata.org/pandas-docs/stable/indexing.html#indexing-view-versus-copy\n",
      "C:\\Users\\peech\\Anaconda3\\lib\\site-packages\\ipykernel_launcher.py:31: SettingWithCopyWarning: \n",
      "A value is trying to be set on a copy of a slice from a DataFrame\n",
      "\n",
      "See the caveats in the documentation: http://pandas.pydata.org/pandas-docs/stable/indexing.html#indexing-view-versus-copy\n",
      "C:\\Users\\peech\\Anaconda3\\lib\\site-packages\\ipykernel_launcher.py:32: SettingWithCopyWarning: \n",
      "A value is trying to be set on a copy of a slice from a DataFrame\n",
      "\n",
      "See the caveats in the documentation: http://pandas.pydata.org/pandas-docs/stable/indexing.html#indexing-view-versus-copy\n",
      "C:\\Users\\peech\\Anaconda3\\lib\\site-packages\\ipykernel_launcher.py:33: SettingWithCopyWarning: \n",
      "A value is trying to be set on a copy of a slice from a DataFrame\n",
      "\n",
      "See the caveats in the documentation: http://pandas.pydata.org/pandas-docs/stable/indexing.html#indexing-view-versus-copy\n",
      "C:\\Users\\peech\\Anaconda3\\lib\\site-packages\\ipykernel_launcher.py:34: SettingWithCopyWarning: \n",
      "A value is trying to be set on a copy of a slice from a DataFrame\n",
      "\n",
      "See the caveats in the documentation: http://pandas.pydata.org/pandas-docs/stable/indexing.html#indexing-view-versus-copy\n"
     ]
    }
   ],
   "source": [
    "df['Sunrise_Sunset'][14146] = 'Day'\n",
    "df['Civil_Twilight'][14146] = 'Day'\n",
    "df['Nautical_Twilight'][14146] = 'Day'\n",
    "df['Astronomical_Twilight'][14146] = 'Day'\n",
    "\n",
    "df['Sunrise_Sunset'][112736] = 'Day'\n",
    "df['Civil_Twilight'][112736] = 'Day'\n",
    "df['Nautical_Twilight'][112736] = 'Day'\n",
    "df['Astronomical_Twilight'][112736] = 'Day'\n",
    "\n",
    "df['Sunrise_Sunset'][35850] = 'Day'\n",
    "df['Civil_Twilight'][35850] = 'Day'\n",
    "df['Nautical_Twilight'][35850] = 'Day'\n",
    "df['Astronomical_Twilight'][35850] = 'Day'\n",
    "\n",
    "df['Sunrise_Sunset'][111574] = 'Day'\n",
    "df['Civil_Twilight'][111574] = 'Day'\n",
    "df['Nautical_Twilight'][111574] = 'Day'\n",
    "df['Astronomical_Twilight'][111574] = 'Day'\n",
    "\n",
    "df['Sunrise_Sunset'][232519] = 'Night'\n",
    "df['Civil_Twilight'][232519] = 'Night'\n",
    "df['Nautical_Twilight'][232519] = 'Night'\n",
    "df['Astronomical_Twilight'][232519] = 'Night'\n",
    "\n",
    "df['Sunrise_Sunset'][232868] = 'Day'\n",
    "df['Civil_Twilight'][232868] = 'Day'\n",
    "df['Nautical_Twilight'][232868] = 'Day'\n",
    "df['Astronomical_Twilight'][232868] = 'Day'\n",
    "\n",
    "df['Sunrise_Sunset'][278883] = 'Night'\n",
    "df['Civil_Twilight'][278883] = 'Night'\n",
    "df['Nautical_Twilight'][278883] = 'Night'\n",
    "df['Astronomical_Twilight'][278883] = 'Night'"
   ]
  },
  {
   "cell_type": "code",
   "execution_count": 57,
   "metadata": {},
   "outputs": [],
   "source": [
    "def getTwilightColumn(sunrise, civil, nautical, astronomical):\n",
    "    lst = [sunrise, civil, nautical, astronomical]\n",
    "    total_day = 0\n",
    "    total_night = 0\n",
    "    for i in lst:\n",
    "        if i == 'Day':\n",
    "            total_day += 1\n",
    "        else:\n",
    "            total_night += 1\n",
    "    if total_day > total_night:\n",
    "        return 'Day'\n",
    "    elif total_night > total_day:\n",
    "        return 'Night'\n",
    "    else:\n",
    "        return sunrise\n",
    "\n",
    "df['Twilight'] = [getTwilightColumn(s,c,n,a) for s,c,n,a in zip(df['Sunrise_Sunset'], df['Civil_Twilight'], df['Nautical_Twilight'], df['Astronomical_Twilight'])]"
   ]
  },
  {
   "cell_type": "code",
   "execution_count": 31,
   "metadata": {},
   "outputs": [
    {
     "data": {
      "text/plain": [
       "Day      234312\n",
       "Night     63122\n",
       "Name: Twilight, dtype: int64"
      ]
     },
     "execution_count": 31,
     "metadata": {},
     "output_type": "execute_result"
    }
   ],
   "source": [
    "df['Twilight'].value_counts()"
   ]
  },
  {
   "cell_type": "code",
   "execution_count": 58,
   "metadata": {},
   "outputs": [
    {
     "data": {
      "text/plain": [
       "Unnamed: 0                                  0\n",
       "ID                                          0\n",
       "Source                                      0\n",
       "TMC                                     72807\n",
       "Severity                                    0\n",
       "Start_Time                                  0\n",
       "End_Time                                    0\n",
       "Time_Elapsed_From_Accident(Seconds)         0\n",
       "Time_Elapsed_From_Accident(Minutes)         0\n",
       "Month                                       0\n",
       "Year                                        0\n",
       "Start Date                                  0\n",
       "End Date                                    0\n",
       "Start Time                                  0\n",
       "Season                                      0\n",
       "Part_Of_Day                                 0\n",
       "End Time                                    0\n",
       "Start Hour                                  0\n",
       "End Hour                                    0\n",
       "Day Of Week                                 0\n",
       "Latitude                                    0\n",
       "Longitude                                   0\n",
       "End_Lat                                224627\n",
       "End_Lng                                224627\n",
       "Distance(mi)                                0\n",
       "Description                                 0\n",
       "Number                                 192299\n",
       "Street                                      0\n",
       "Side                                        0\n",
       "City                                        6\n",
       "                                        ...  \n",
       "Timezone                                  304\n",
       "Airport_Code                              556\n",
       "Weather_Timestamp                        3533\n",
       "Temperature(F)                           5463\n",
       "Wind_Chill(F)                          185128\n",
       "Humidity(%)                              5777\n",
       "Pressure(in)                             4638\n",
       "Visibility(mi)                           6377\n",
       "Wind_Direction                           4359\n",
       "Wind_Speed(mph)                         43708\n",
       "Precipitation(in)                      199869\n",
       "Weather_Condition                        6453\n",
       "Amenity                                     0\n",
       "Bump                                        0\n",
       "Crossing                                    0\n",
       "Give_Way                                    0\n",
       "Junction                                    0\n",
       "No_Exit                                     0\n",
       "Railway                                     0\n",
       "Roundabout                                  0\n",
       "Station                                     0\n",
       "Stop                                        0\n",
       "Traffic_Calming                             0\n",
       "Traffic_Signal                              0\n",
       "Turning_Loop                                0\n",
       "Sunrise_Sunset                              0\n",
       "Civil_Twilight                              0\n",
       "Nautical_Twilight                           0\n",
       "Astronomical_Twilight                       0\n",
       "Twilight                                    0\n",
       "Length: 64, dtype: int64"
      ]
     },
     "execution_count": 58,
     "metadata": {},
     "output_type": "execute_result"
    }
   ],
   "source": [
    "df.isnull().sum()"
   ]
  },
  {
   "cell_type": "code",
   "execution_count": 59,
   "metadata": {},
   "outputs": [
    {
     "data": {
      "text/plain": [
       "1180616"
      ]
     },
     "execution_count": 59,
     "metadata": {},
     "output_type": "execute_result"
    }
   ],
   "source": [
    "df.isnull().sum().values.sum()"
   ]
  },
  {
   "cell_type": "code",
   "execution_count": null,
   "metadata": {},
   "outputs": [],
   "source": []
  },
  {
   "cell_type": "code",
   "execution_count": null,
   "metadata": {},
   "outputs": [],
   "source": []
  },
  {
   "cell_type": "code",
   "execution_count": null,
   "metadata": {},
   "outputs": [],
   "source": []
  },
  {
   "cell_type": "code",
   "execution_count": 38,
   "metadata": {},
   "outputs": [
    {
     "data": {
      "text/html": [
       "<div>\n",
       "<style scoped>\n",
       "    .dataframe tbody tr th:only-of-type {\n",
       "        vertical-align: middle;\n",
       "    }\n",
       "\n",
       "    .dataframe tbody tr th {\n",
       "        vertical-align: top;\n",
       "    }\n",
       "\n",
       "    .dataframe thead th {\n",
       "        text-align: right;\n",
       "    }\n",
       "</style>\n",
       "<table border=\"1\" class=\"dataframe\">\n",
       "  <thead>\n",
       "    <tr style=\"text-align: right;\">\n",
       "      <th></th>\n",
       "      <th>Unnamed: 0</th>\n",
       "      <th>ID</th>\n",
       "      <th>Source</th>\n",
       "      <th>TMC</th>\n",
       "      <th>Severity</th>\n",
       "      <th>Start_Time</th>\n",
       "      <th>End_Time</th>\n",
       "      <th>Month</th>\n",
       "      <th>Year</th>\n",
       "      <th>Start Date</th>\n",
       "      <th>...</th>\n",
       "      <th>Station</th>\n",
       "      <th>Stop</th>\n",
       "      <th>Traffic_Calming</th>\n",
       "      <th>Traffic_Signal</th>\n",
       "      <th>Turning_Loop</th>\n",
       "      <th>Sunrise_Sunset</th>\n",
       "      <th>Civil_Twilight</th>\n",
       "      <th>Nautical_Twilight</th>\n",
       "      <th>Astronomical_Twilight</th>\n",
       "      <th>Twilight</th>\n",
       "    </tr>\n",
       "  </thead>\n",
       "  <tbody>\n",
       "    <tr>\n",
       "      <th>0</th>\n",
       "      <td>0</td>\n",
       "      <td>A-1</td>\n",
       "      <td>MapQuest</td>\n",
       "      <td>201.0</td>\n",
       "      <td>3</td>\n",
       "      <td>2016-02-08 05:46:00</td>\n",
       "      <td>2016-02-08 11:00:00</td>\n",
       "      <td>2016-02</td>\n",
       "      <td>2016</td>\n",
       "      <td>2016-02-08</td>\n",
       "      <td>...</td>\n",
       "      <td>No</td>\n",
       "      <td>No</td>\n",
       "      <td>No</td>\n",
       "      <td>No</td>\n",
       "      <td>No</td>\n",
       "      <td>Night</td>\n",
       "      <td>Night</td>\n",
       "      <td>Night</td>\n",
       "      <td>Night</td>\n",
       "      <td>Night</td>\n",
       "    </tr>\n",
       "    <tr>\n",
       "      <th>1</th>\n",
       "      <td>10</td>\n",
       "      <td>A-11</td>\n",
       "      <td>MapQuest</td>\n",
       "      <td>201.0</td>\n",
       "      <td>3</td>\n",
       "      <td>2016-02-08 08:14:42</td>\n",
       "      <td>2016-02-08 08:44:42</td>\n",
       "      <td>2016-02</td>\n",
       "      <td>2016</td>\n",
       "      <td>2016-02-08</td>\n",
       "      <td>...</td>\n",
       "      <td>No</td>\n",
       "      <td>No</td>\n",
       "      <td>No</td>\n",
       "      <td>No</td>\n",
       "      <td>No</td>\n",
       "      <td>Day</td>\n",
       "      <td>Day</td>\n",
       "      <td>Day</td>\n",
       "      <td>Day</td>\n",
       "      <td>Day</td>\n",
       "    </tr>\n",
       "    <tr>\n",
       "      <th>2</th>\n",
       "      <td>20</td>\n",
       "      <td>A-21</td>\n",
       "      <td>MapQuest</td>\n",
       "      <td>201.0</td>\n",
       "      <td>2</td>\n",
       "      <td>2016-02-08 10:11:15</td>\n",
       "      <td>2016-02-08 10:41:15</td>\n",
       "      <td>2016-02</td>\n",
       "      <td>2016</td>\n",
       "      <td>2016-02-08</td>\n",
       "      <td>...</td>\n",
       "      <td>No</td>\n",
       "      <td>No</td>\n",
       "      <td>No</td>\n",
       "      <td>No</td>\n",
       "      <td>No</td>\n",
       "      <td>Day</td>\n",
       "      <td>Day</td>\n",
       "      <td>Day</td>\n",
       "      <td>Day</td>\n",
       "      <td>Day</td>\n",
       "    </tr>\n",
       "    <tr>\n",
       "      <th>3</th>\n",
       "      <td>30</td>\n",
       "      <td>A-31</td>\n",
       "      <td>MapQuest</td>\n",
       "      <td>201.0</td>\n",
       "      <td>2</td>\n",
       "      <td>2016-02-08 16:16:08</td>\n",
       "      <td>2016-02-08 16:46:08</td>\n",
       "      <td>2016-02</td>\n",
       "      <td>2016</td>\n",
       "      <td>2016-02-08</td>\n",
       "      <td>...</td>\n",
       "      <td>No</td>\n",
       "      <td>No</td>\n",
       "      <td>No</td>\n",
       "      <td>Yes</td>\n",
       "      <td>No</td>\n",
       "      <td>Day</td>\n",
       "      <td>Day</td>\n",
       "      <td>Day</td>\n",
       "      <td>Day</td>\n",
       "      <td>Day</td>\n",
       "    </tr>\n",
       "    <tr>\n",
       "      <th>4</th>\n",
       "      <td>40</td>\n",
       "      <td>A-41</td>\n",
       "      <td>MapQuest</td>\n",
       "      <td>201.0</td>\n",
       "      <td>2</td>\n",
       "      <td>2016-02-09 05:40:57</td>\n",
       "      <td>2016-02-09 06:10:57</td>\n",
       "      <td>2016-02</td>\n",
       "      <td>2016</td>\n",
       "      <td>2016-02-09</td>\n",
       "      <td>...</td>\n",
       "      <td>No</td>\n",
       "      <td>No</td>\n",
       "      <td>No</td>\n",
       "      <td>No</td>\n",
       "      <td>No</td>\n",
       "      <td>Night</td>\n",
       "      <td>Night</td>\n",
       "      <td>Night</td>\n",
       "      <td>Night</td>\n",
       "      <td>Night</td>\n",
       "    </tr>\n",
       "  </tbody>\n",
       "</table>\n",
       "<p>5 rows × 60 columns</p>\n",
       "</div>"
      ],
      "text/plain": [
       "   Unnamed: 0    ID    Source    TMC  Severity           Start_Time  \\\n",
       "0           0   A-1  MapQuest  201.0         3  2016-02-08 05:46:00   \n",
       "1          10  A-11  MapQuest  201.0         3  2016-02-08 08:14:42   \n",
       "2          20  A-21  MapQuest  201.0         2  2016-02-08 10:11:15   \n",
       "3          30  A-31  MapQuest  201.0         2  2016-02-08 16:16:08   \n",
       "4          40  A-41  MapQuest  201.0         2  2016-02-09 05:40:57   \n",
       "\n",
       "              End_Time    Month  Year  Start Date    ...    Station Stop  \\\n",
       "0  2016-02-08 11:00:00  2016-02  2016  2016-02-08    ...         No   No   \n",
       "1  2016-02-08 08:44:42  2016-02  2016  2016-02-08    ...         No   No   \n",
       "2  2016-02-08 10:41:15  2016-02  2016  2016-02-08    ...         No   No   \n",
       "3  2016-02-08 16:46:08  2016-02  2016  2016-02-08    ...         No   No   \n",
       "4  2016-02-09 06:10:57  2016-02  2016  2016-02-09    ...         No   No   \n",
       "\n",
       "  Traffic_Calming Traffic_Signal Turning_Loop Sunrise_Sunset  Civil_Twilight  \\\n",
       "0              No             No           No          Night           Night   \n",
       "1              No             No           No            Day             Day   \n",
       "2              No             No           No            Day             Day   \n",
       "3              No            Yes           No            Day             Day   \n",
       "4              No             No           No          Night           Night   \n",
       "\n",
       "   Nautical_Twilight  Astronomical_Twilight  Twilight  \n",
       "0              Night                  Night     Night  \n",
       "1                Day                    Day       Day  \n",
       "2                Day                    Day       Day  \n",
       "3                Day                    Day       Day  \n",
       "4              Night                  Night     Night  \n",
       "\n",
       "[5 rows x 60 columns]"
      ]
     },
     "execution_count": 38,
     "metadata": {},
     "output_type": "execute_result"
    }
   ],
   "source": [
    "df.head()"
   ]
  },
  {
   "cell_type": "code",
   "execution_count": 39,
   "metadata": {},
   "outputs": [
    {
     "data": {
      "text/html": [
       "<div>\n",
       "<style scoped>\n",
       "    .dataframe tbody tr th:only-of-type {\n",
       "        vertical-align: middle;\n",
       "    }\n",
       "\n",
       "    .dataframe tbody tr th {\n",
       "        vertical-align: top;\n",
       "    }\n",
       "\n",
       "    .dataframe thead th {\n",
       "        text-align: right;\n",
       "    }\n",
       "</style>\n",
       "<table border=\"1\" class=\"dataframe\">\n",
       "  <thead>\n",
       "    <tr style=\"text-align: right;\">\n",
       "      <th></th>\n",
       "      <th>Unnamed: 0</th>\n",
       "      <th>ID</th>\n",
       "      <th>Source</th>\n",
       "      <th>TMC</th>\n",
       "      <th>Severity</th>\n",
       "      <th>Start_Time</th>\n",
       "      <th>End_Time</th>\n",
       "      <th>Month</th>\n",
       "      <th>Year</th>\n",
       "      <th>Start Date</th>\n",
       "      <th>...</th>\n",
       "      <th>Station</th>\n",
       "      <th>Stop</th>\n",
       "      <th>Traffic_Calming</th>\n",
       "      <th>Traffic_Signal</th>\n",
       "      <th>Turning_Loop</th>\n",
       "      <th>Sunrise_Sunset</th>\n",
       "      <th>Civil_Twilight</th>\n",
       "      <th>Nautical_Twilight</th>\n",
       "      <th>Astronomical_Twilight</th>\n",
       "      <th>Twilight</th>\n",
       "    </tr>\n",
       "  </thead>\n",
       "  <tbody>\n",
       "    <tr>\n",
       "      <th>297429</th>\n",
       "      <td>2974290</td>\n",
       "      <td>A-2974314</td>\n",
       "      <td>Bing</td>\n",
       "      <td>NaN</td>\n",
       "      <td>3</td>\n",
       "      <td>2019-08-23 16:10:18</td>\n",
       "      <td>2019-08-23 16:39:03</td>\n",
       "      <td>2019-08</td>\n",
       "      <td>2019</td>\n",
       "      <td>2019-08-23</td>\n",
       "      <td>...</td>\n",
       "      <td>No</td>\n",
       "      <td>No</td>\n",
       "      <td>No</td>\n",
       "      <td>No</td>\n",
       "      <td>No</td>\n",
       "      <td>Day</td>\n",
       "      <td>Day</td>\n",
       "      <td>Day</td>\n",
       "      <td>Day</td>\n",
       "      <td>Day</td>\n",
       "    </tr>\n",
       "    <tr>\n",
       "      <th>297430</th>\n",
       "      <td>2974300</td>\n",
       "      <td>A-2974324</td>\n",
       "      <td>Bing</td>\n",
       "      <td>NaN</td>\n",
       "      <td>3</td>\n",
       "      <td>2019-08-23 10:32:30</td>\n",
       "      <td>2019-08-23 11:01:40</td>\n",
       "      <td>2019-08</td>\n",
       "      <td>2019</td>\n",
       "      <td>2019-08-23</td>\n",
       "      <td>...</td>\n",
       "      <td>No</td>\n",
       "      <td>No</td>\n",
       "      <td>No</td>\n",
       "      <td>No</td>\n",
       "      <td>No</td>\n",
       "      <td>Day</td>\n",
       "      <td>Day</td>\n",
       "      <td>Day</td>\n",
       "      <td>Day</td>\n",
       "      <td>Day</td>\n",
       "    </tr>\n",
       "    <tr>\n",
       "      <th>297431</th>\n",
       "      <td>2974310</td>\n",
       "      <td>A-2974334</td>\n",
       "      <td>Bing</td>\n",
       "      <td>NaN</td>\n",
       "      <td>2</td>\n",
       "      <td>2019-08-23 14:19:41</td>\n",
       "      <td>2019-08-23 14:47:28</td>\n",
       "      <td>2019-08</td>\n",
       "      <td>2019</td>\n",
       "      <td>2019-08-23</td>\n",
       "      <td>...</td>\n",
       "      <td>No</td>\n",
       "      <td>No</td>\n",
       "      <td>No</td>\n",
       "      <td>No</td>\n",
       "      <td>No</td>\n",
       "      <td>Day</td>\n",
       "      <td>Day</td>\n",
       "      <td>Day</td>\n",
       "      <td>Day</td>\n",
       "      <td>Day</td>\n",
       "    </tr>\n",
       "    <tr>\n",
       "      <th>297432</th>\n",
       "      <td>2974320</td>\n",
       "      <td>A-2974344</td>\n",
       "      <td>Bing</td>\n",
       "      <td>NaN</td>\n",
       "      <td>2</td>\n",
       "      <td>2019-08-23 16:26:06</td>\n",
       "      <td>2019-08-23 16:54:36</td>\n",
       "      <td>2019-08</td>\n",
       "      <td>2019</td>\n",
       "      <td>2019-08-23</td>\n",
       "      <td>...</td>\n",
       "      <td>No</td>\n",
       "      <td>No</td>\n",
       "      <td>No</td>\n",
       "      <td>No</td>\n",
       "      <td>No</td>\n",
       "      <td>Day</td>\n",
       "      <td>Day</td>\n",
       "      <td>Day</td>\n",
       "      <td>Day</td>\n",
       "      <td>Day</td>\n",
       "    </tr>\n",
       "    <tr>\n",
       "      <th>297433</th>\n",
       "      <td>2974330</td>\n",
       "      <td>A-2974354</td>\n",
       "      <td>Bing</td>\n",
       "      <td>NaN</td>\n",
       "      <td>2</td>\n",
       "      <td>2019-08-23 18:03:25</td>\n",
       "      <td>2019-08-23 18:32:01</td>\n",
       "      <td>2019-08</td>\n",
       "      <td>2019</td>\n",
       "      <td>2019-08-23</td>\n",
       "      <td>...</td>\n",
       "      <td>No</td>\n",
       "      <td>No</td>\n",
       "      <td>No</td>\n",
       "      <td>No</td>\n",
       "      <td>No</td>\n",
       "      <td>Day</td>\n",
       "      <td>Day</td>\n",
       "      <td>Day</td>\n",
       "      <td>Day</td>\n",
       "      <td>Day</td>\n",
       "    </tr>\n",
       "  </tbody>\n",
       "</table>\n",
       "<p>5 rows × 60 columns</p>\n",
       "</div>"
      ],
      "text/plain": [
       "        Unnamed: 0         ID Source  TMC  Severity           Start_Time  \\\n",
       "297429     2974290  A-2974314   Bing  NaN         3  2019-08-23 16:10:18   \n",
       "297430     2974300  A-2974324   Bing  NaN         3  2019-08-23 10:32:30   \n",
       "297431     2974310  A-2974334   Bing  NaN         2  2019-08-23 14:19:41   \n",
       "297432     2974320  A-2974344   Bing  NaN         2  2019-08-23 16:26:06   \n",
       "297433     2974330  A-2974354   Bing  NaN         2  2019-08-23 18:03:25   \n",
       "\n",
       "                   End_Time    Month  Year  Start Date    ...    Station Stop  \\\n",
       "297429  2019-08-23 16:39:03  2019-08  2019  2019-08-23    ...         No   No   \n",
       "297430  2019-08-23 11:01:40  2019-08  2019  2019-08-23    ...         No   No   \n",
       "297431  2019-08-23 14:47:28  2019-08  2019  2019-08-23    ...         No   No   \n",
       "297432  2019-08-23 16:54:36  2019-08  2019  2019-08-23    ...         No   No   \n",
       "297433  2019-08-23 18:32:01  2019-08  2019  2019-08-23    ...         No   No   \n",
       "\n",
       "       Traffic_Calming Traffic_Signal Turning_Loop Sunrise_Sunset  \\\n",
       "297429              No             No           No            Day   \n",
       "297430              No             No           No            Day   \n",
       "297431              No             No           No            Day   \n",
       "297432              No             No           No            Day   \n",
       "297433              No             No           No            Day   \n",
       "\n",
       "        Civil_Twilight  Nautical_Twilight  Astronomical_Twilight  Twilight  \n",
       "297429             Day                Day                    Day       Day  \n",
       "297430             Day                Day                    Day       Day  \n",
       "297431             Day                Day                    Day       Day  \n",
       "297432             Day                Day                    Day       Day  \n",
       "297433             Day                Day                    Day       Day  \n",
       "\n",
       "[5 rows x 60 columns]"
      ]
     },
     "execution_count": 39,
     "metadata": {},
     "output_type": "execute_result"
    }
   ],
   "source": [
    "df.tail()"
   ]
  },
  {
   "cell_type": "code",
   "execution_count": 34,
   "metadata": {},
   "outputs": [
    {
     "data": {
      "text/plain": [
       "297434"
      ]
     },
     "execution_count": 34,
     "metadata": {},
     "output_type": "execute_result"
    }
   ],
   "source": [
    "len(df)"
   ]
  },
  {
   "cell_type": "code",
   "execution_count": 42,
   "metadata": {},
   "outputs": [],
   "source": [
    "df.to_csv('C:\\\\Users\\\\peech\\\\OneDrive\\\\Documents\\\\ITSS 4354 - Advanced Big Data Analytics\\\\ITSS 4354 Group Project\\\\New and Condensed Dataset.csv')"
   ]
  },
  {
   "cell_type": "code",
   "execution_count": 52,
   "metadata": {},
   "outputs": [],
   "source": [
    "# Exporting dataset without any null values for Weather_Condition column"
   ]
  },
  {
   "cell_type": "code",
   "execution_count": 60,
   "metadata": {},
   "outputs": [],
   "source": [
    "df_weather_not_null = df[df['Weather_Condition'].notnull()]"
   ]
  },
  {
   "cell_type": "code",
   "execution_count": 61,
   "metadata": {},
   "outputs": [
    {
     "data": {
      "text/plain": [
       "290981"
      ]
     },
     "execution_count": 61,
     "metadata": {},
     "output_type": "execute_result"
    }
   ],
   "source": [
    "len(df_weather_not_null)"
   ]
  },
  {
   "cell_type": "code",
   "execution_count": 62,
   "metadata": {},
   "outputs": [
    {
     "data": {
      "text/plain": [
       "Unnamed: 0                                  0\n",
       "ID                                          0\n",
       "Source                                      0\n",
       "TMC                                     70919\n",
       "Severity                                    0\n",
       "Start_Time                                  0\n",
       "End_Time                                    0\n",
       "Time_Elapsed_From_Accident(Seconds)         0\n",
       "Time_Elapsed_From_Accident(Minutes)         0\n",
       "Month                                       0\n",
       "Year                                        0\n",
       "Start Date                                  0\n",
       "End Date                                    0\n",
       "Start Time                                  0\n",
       "Season                                      0\n",
       "Part_Of_Day                                 0\n",
       "End Time                                    0\n",
       "Start Hour                                  0\n",
       "End Hour                                    0\n",
       "Day Of Week                                 0\n",
       "Latitude                                    0\n",
       "Longitude                                   0\n",
       "End_Lat                                220062\n",
       "End_Lng                                220062\n",
       "Distance(mi)                                0\n",
       "Description                                 0\n",
       "Number                                 187911\n",
       "Street                                      0\n",
       "Side                                        0\n",
       "City                                        6\n",
       "                                        ...  \n",
       "Timezone                                    0\n",
       "Airport_Code                                0\n",
       "Weather_Timestamp                           0\n",
       "Temperature(F)                           1000\n",
       "Wind_Chill(F)                          179114\n",
       "Humidity(%)                              1307\n",
       "Pressure(in)                              346\n",
       "Visibility(mi)                            690\n",
       "Wind_Direction                            521\n",
       "Wind_Speed(mph)                         38289\n",
       "Precipitation(in)                      193985\n",
       "Weather_Condition                           0\n",
       "Amenity                                     0\n",
       "Bump                                        0\n",
       "Crossing                                    0\n",
       "Give_Way                                    0\n",
       "Junction                                    0\n",
       "No_Exit                                     0\n",
       "Railway                                     0\n",
       "Roundabout                                  0\n",
       "Station                                     0\n",
       "Stop                                        0\n",
       "Traffic_Calming                             0\n",
       "Traffic_Signal                              0\n",
       "Turning_Loop                                0\n",
       "Sunrise_Sunset                              0\n",
       "Civil_Twilight                              0\n",
       "Nautical_Twilight                           0\n",
       "Astronomical_Twilight                       0\n",
       "Twilight                                    0\n",
       "Length: 64, dtype: int64"
      ]
     },
     "execution_count": 62,
     "metadata": {},
     "output_type": "execute_result"
    }
   ],
   "source": [
    "df_weather_not_null.isnull().sum()"
   ]
  },
  {
   "cell_type": "code",
   "execution_count": 63,
   "metadata": {},
   "outputs": [
    {
     "data": {
      "text/plain": [
       "1114212"
      ]
     },
     "execution_count": 63,
     "metadata": {},
     "output_type": "execute_result"
    }
   ],
   "source": [
    "df_weather_not_null.isnull().sum().values.sum()"
   ]
  },
  {
   "cell_type": "code",
   "execution_count": 46,
   "metadata": {},
   "outputs": [],
   "source": [
    "df_weather_not_null.to_csv('C:\\\\Users\\\\peech\\\\OneDrive\\\\Documents\\\\ITSS 4354 - Advanced Big Data Analytics\\\\ITSS 4354 Group Project\\\\New and Condensed Dataset Weather Adjusted.csv')"
   ]
  },
  {
   "cell_type": "code",
   "execution_count": 58,
   "metadata": {},
   "outputs": [],
   "source": [
    "# Exporting dataset without any null values for Weather_Condition, Pressure, Visibility, Humidity, Temperature columns"
   ]
  },
  {
   "cell_type": "code",
   "execution_count": 64,
   "metadata": {},
   "outputs": [],
   "source": [
    "df_columns_not_null = df_weather_not_null[(df_weather_not_null['Temperature(F)'].notnull()) & (df_weather_not_null['Humidity(%)'].notnull()) &\n",
    "                                         (df_weather_not_null['Pressure(in)'].notnull()) & (df_weather_not_null['Visibility(mi)'].notnull())]"
   ]
  },
  {
   "cell_type": "code",
   "execution_count": 65,
   "metadata": {},
   "outputs": [
    {
     "data": {
      "text/plain": [
       "288762"
      ]
     },
     "execution_count": 65,
     "metadata": {},
     "output_type": "execute_result"
    }
   ],
   "source": [
    "len(df_columns_not_null)"
   ]
  },
  {
   "cell_type": "code",
   "execution_count": 66,
   "metadata": {},
   "outputs": [
    {
     "data": {
      "text/plain": [
       "Unnamed: 0                                  0\n",
       "ID                                          0\n",
       "Source                                      0\n",
       "TMC                                     70300\n",
       "Severity                                    0\n",
       "Start_Time                                  0\n",
       "End_Time                                    0\n",
       "Time_Elapsed_From_Accident(Seconds)         0\n",
       "Time_Elapsed_From_Accident(Minutes)         0\n",
       "Month                                       0\n",
       "Year                                        0\n",
       "Start Date                                  0\n",
       "End Date                                    0\n",
       "Start Time                                  0\n",
       "Season                                      0\n",
       "Part_Of_Day                                 0\n",
       "End Time                                    0\n",
       "Start Hour                                  0\n",
       "End Hour                                    0\n",
       "Day Of Week                                 0\n",
       "Latitude                                    0\n",
       "Longitude                                   0\n",
       "End_Lat                                218462\n",
       "End_Lng                                218462\n",
       "Distance(mi)                                0\n",
       "Description                                 0\n",
       "Number                                 186402\n",
       "Street                                      0\n",
       "Side                                        0\n",
       "City                                        6\n",
       "                                        ...  \n",
       "Timezone                                    0\n",
       "Airport_Code                                0\n",
       "Weather_Timestamp                           0\n",
       "Temperature(F)                              0\n",
       "Wind_Chill(F)                          177354\n",
       "Humidity(%)                                 0\n",
       "Pressure(in)                                0\n",
       "Visibility(mi)                              0\n",
       "Wind_Direction                            430\n",
       "Wind_Speed(mph)                         37746\n",
       "Precipitation(in)                      192454\n",
       "Weather_Condition                           0\n",
       "Amenity                                     0\n",
       "Bump                                        0\n",
       "Crossing                                    0\n",
       "Give_Way                                    0\n",
       "Junction                                    0\n",
       "No_Exit                                     0\n",
       "Railway                                     0\n",
       "Roundabout                                  0\n",
       "Station                                     0\n",
       "Stop                                        0\n",
       "Traffic_Calming                             0\n",
       "Traffic_Signal                              0\n",
       "Turning_Loop                                0\n",
       "Sunrise_Sunset                              0\n",
       "Civil_Twilight                              0\n",
       "Nautical_Twilight                           0\n",
       "Astronomical_Twilight                       0\n",
       "Twilight                                    0\n",
       "Length: 64, dtype: int64"
      ]
     },
     "execution_count": 66,
     "metadata": {},
     "output_type": "execute_result"
    }
   ],
   "source": [
    "df_columns_not_null.isnull().sum()"
   ]
  },
  {
   "cell_type": "code",
   "execution_count": 67,
   "metadata": {},
   "outputs": [],
   "source": [
    "df_columns_not_null.to_csv('C:\\\\Users\\\\peech\\\\OneDrive\\\\Documents\\\\ITSS 4354 - Advanced Big Data Analytics\\\\ITSS 4354 Group Project\\\\New and Condensed Dataset Columns Not Null.csv')"
   ]
  },
  {
   "cell_type": "code",
   "execution_count": null,
   "metadata": {},
   "outputs": [],
   "source": []
  },
  {
   "cell_type": "code",
   "execution_count": 55,
   "metadata": {},
   "outputs": [],
   "source": [
    "# EDA - df"
   ]
  },
  {
   "cell_type": "code",
   "execution_count": 56,
   "metadata": {},
   "outputs": [
    {
     "data": {
      "text/plain": [
       "Clear                           80877\n",
       "Mostly Cloudy                   41307\n",
       "Overcast                        38278\n",
       "Fair                            33474\n",
       "Partly Cloudy                   29507\n",
       "Scattered Clouds                20723\n",
       "Light Rain                      13893\n",
       "Cloudy                          11618\n",
       "Light Snow                       4200\n",
       "Haze                             3416\n",
       "Rain                             3200\n",
       "Fog                              2202\n",
       "Heavy Rain                       1216\n",
       "Light Drizzle                    1050\n",
       "Snow                              493\n",
       "Light Thunderstorms and Rain      480\n",
       "Thunderstorm                      434\n",
       "Fair / Windy                      413\n",
       "Smoke                             377\n",
       "Heavy Thunderstorms and Rain      238\n",
       "Light Freezing Rain               234\n",
       "Thunderstorms and Rain            228\n",
       "Mist                              223\n",
       "Patches of Fog                    223\n",
       "Thunder in the Vicinity           221\n",
       "T-Storm                           220\n",
       "Mostly Cloudy / Windy             211\n",
       "Drizzle                           211\n",
       "Light Rain with Thunder           197\n",
       "Cloudy / Windy                    196\n",
       "                                ...  \n",
       "Drizzle and Fog                     5\n",
       "Light Rain Shower                   5\n",
       "Fog / Windy                         4\n",
       "Blowing Dust / Windy                4\n",
       "Sand / Dust Whirlwinds              3\n",
       "Funnel Cloud                        3\n",
       "Smoke / Windy                       3\n",
       "Volcanic Ash                        3\n",
       "Blowing Dust                        3\n",
       "Heavy Rain Showers                  3\n",
       "Small Hail                          3\n",
       "Snow and Sleet                      2\n",
       "Squalls                             2\n",
       "Light Snow Showers                  2\n",
       "Sleet                               2\n",
       "Freezing Rain                       2\n",
       "Light Haze                          2\n",
       "Blowing Snow / Windy                2\n",
       "Light Snow and Sleet                1\n",
       "Light Thunderstorms and Snow        1\n",
       "Heavy Freezing Drizzle              1\n",
       "Snow Grains                         1\n",
       "Heavy Snow / Windy                  1\n",
       "Light Blowing Snow                  1\n",
       "Wintry Mix / Windy                  1\n",
       "Snow and Sleet / Windy              1\n",
       "Sand                                1\n",
       "Dust Whirls                         1\n",
       "Thunder / Wintry Mix / Windy        1\n",
       "Light Snow and Sleet / Windy        1\n",
       "Name: Weather_Condition, Length: 87, dtype: int64"
      ]
     },
     "execution_count": 56,
     "metadata": {},
     "output_type": "execute_result"
    }
   ],
   "source": [
    "df['Weather_Condition'].value_counts()"
   ]
  },
  {
   "cell_type": "code",
   "execution_count": 57,
   "metadata": {},
   "outputs": [
    {
     "data": {
      "text/plain": [
       "08    28201\n",
       "07    27425\n",
       "17    22242\n",
       "16    21321\n",
       "09    17915\n",
       "15    17683\n",
       "06    16990\n",
       "18    16635\n",
       "10    15845\n",
       "11    15450\n",
       "14    15081\n",
       "13    14092\n",
       "12    13999\n",
       "19    11580\n",
       "05     8395\n",
       "20     8165\n",
       "21     5677\n",
       "04     5333\n",
       "22     4829\n",
       "23     2687\n",
       "00     2365\n",
       "03     1900\n",
       "02     1843\n",
       "01     1781\n",
       "Name: Start Hour, dtype: int64"
      ]
     },
     "execution_count": 57,
     "metadata": {},
     "output_type": "execute_result"
    }
   ],
   "source": [
    "df['Start Hour'].value_counts()"
   ]
  },
  {
   "cell_type": "code",
   "execution_count": 58,
   "metadata": {},
   "outputs": [
    {
     "data": {
      "text/plain": [
       "08    25599\n",
       "09    22528\n",
       "18    19835\n",
       "17    19697\n",
       "07    17576\n",
       "16    17406\n",
       "10    16254\n",
       "19    15628\n",
       "15    15496\n",
       "11    15224\n",
       "12    15135\n",
       "14    14823\n",
       "13    14654\n",
       "20    11906\n",
       "21    10055\n",
       "06     9348\n",
       "22     8552\n",
       "23     7158\n",
       "05     5186\n",
       "00     4696\n",
       "04     3221\n",
       "01     3094\n",
       "02     2399\n",
       "03     1964\n",
       "Name: End Hour, dtype: int64"
      ]
     },
     "execution_count": 58,
     "metadata": {},
     "output_type": "execute_result"
    }
   ],
   "source": [
    "df['End Hour'].value_counts()"
   ]
  },
  {
   "cell_type": "code",
   "execution_count": 59,
   "metadata": {},
   "outputs": [
    {
     "data": {
      "text/plain": [
       "Tuesday      54422\n",
       "Friday       53768\n",
       "Wednesday    53693\n",
       "Thursday     52626\n",
       "Monday       50741\n",
       "Saturday     17045\n",
       "Sunday       15139\n",
       "Name: Day Of Week, dtype: int64"
      ]
     },
     "execution_count": 59,
     "metadata": {},
     "output_type": "execute_result"
    }
   ],
   "source": [
    "df['Day Of Week'].value_counts()"
   ]
  },
  {
   "cell_type": "code",
   "execution_count": 60,
   "metadata": {},
   "outputs": [
    {
     "data": {
      "text/plain": [
       "No     247311\n",
       "Yes     50123\n",
       "Name: Traffic_Signal, dtype: int64"
      ]
     },
     "execution_count": 60,
     "metadata": {},
     "output_type": "execute_result"
    }
   ],
   "source": [
    "df['Traffic_Signal'].value_counts()"
   ]
  },
  {
   "cell_type": "code",
   "execution_count": 61,
   "metadata": {},
   "outputs": [
    {
     "data": {
      "text/plain": [
       "2.362497226275409"
      ]
     },
     "execution_count": 61,
     "metadata": {},
     "output_type": "execute_result"
    }
   ],
   "source": [
    "df['Severity'].mean()"
   ]
  },
  {
   "cell_type": "code",
   "execution_count": 62,
   "metadata": {},
   "outputs": [
    {
     "data": {
      "text/plain": [
       "2.0"
      ]
     },
     "execution_count": 62,
     "metadata": {},
     "output_type": "execute_result"
    }
   ],
   "source": [
    "df['Severity'].median()"
   ]
  },
  {
   "cell_type": "code",
   "execution_count": 63,
   "metadata": {},
   "outputs": [
    {
     "data": {
      "text/plain": [
       "CA    66408\n",
       "TX    29868\n",
       "FL    22311\n",
       "SC    14605\n",
       "NC    14163\n",
       "NY    13808\n",
       "PA     9011\n",
       "MI     8893\n",
       "IL     8609\n",
       "GA     8410\n",
       "VA     8133\n",
       "OR     7042\n",
       "AZ     6273\n",
       "MN     6269\n",
       "WA     6103\n",
       "TN     5856\n",
       "OH     5626\n",
       "LA     5280\n",
       "OK     5131\n",
       "NJ     4955\n",
       "MD     4270\n",
       "UT     4083\n",
       "CO     4073\n",
       "AL     3620\n",
       "MA     3293\n",
       "IN     3028\n",
       "MO     2875\n",
       "NE     2258\n",
       "CT     2217\n",
       "KY     1926\n",
       "WI     1749\n",
       "RI     1051\n",
       "IA      997\n",
       "NV      924\n",
       "NH      730\n",
       "KS      707\n",
       "MS      610\n",
       "NM      478\n",
       "DE      452\n",
       "DC      374\n",
       "WV      245\n",
       "ME      206\n",
       "AR      170\n",
       "ID      167\n",
       "VT       72\n",
       "WY       48\n",
       "MT       47\n",
       "SD        7\n",
       "ND        3\n",
       "Name: State, dtype: int64"
      ]
     },
     "execution_count": 63,
     "metadata": {},
     "output_type": "execute_result"
    }
   ],
   "source": [
    "df['State'].value_counts()"
   ]
  },
  {
   "cell_type": "code",
   "execution_count": 64,
   "metadata": {},
   "outputs": [
    {
     "data": {
      "text/plain": [
       "49"
      ]
     },
     "execution_count": 64,
     "metadata": {},
     "output_type": "execute_result"
    }
   ],
   "source": [
    "df['State'].nunique()"
   ]
  },
  {
   "cell_type": "code",
   "execution_count": 65,
   "metadata": {},
   "outputs": [
    {
     "data": {
      "text/plain": [
       "0"
      ]
     },
     "execution_count": 65,
     "metadata": {},
     "output_type": "execute_result"
    }
   ],
   "source": [
    "len(df[df['State'] == 'AK'])"
   ]
  },
  {
   "cell_type": "code",
   "execution_count": 66,
   "metadata": {},
   "outputs": [
    {
     "data": {
      "text/plain": [
       "0"
      ]
     },
     "execution_count": 66,
     "metadata": {},
     "output_type": "execute_result"
    }
   ],
   "source": [
    "len(df[df['State'] == 'HI'])"
   ]
  },
  {
   "cell_type": "code",
   "execution_count": 67,
   "metadata": {},
   "outputs": [
    {
     "data": {
      "text/plain": [
       "374"
      ]
     },
     "execution_count": 67,
     "metadata": {},
     "output_type": "execute_result"
    }
   ],
   "source": [
    "len(df[df['State'] == 'DC'])"
   ]
  },
  {
   "cell_type": "code",
   "execution_count": 68,
   "metadata": {},
   "outputs": [
    {
     "data": {
      "text/plain": [
       "Los Angeles        6519\n",
       "Sacramento         2546\n",
       "San Diego          2152\n",
       "San Jose           1764\n",
       "Oakland            1115\n",
       "Riverside          1071\n",
       "Long Beach          960\n",
       "Anaheim             873\n",
       "San Francisco       846\n",
       "Corona              768\n",
       "San Bernardino      742\n",
       "Whittier            657\n",
       "Ontario             610\n",
       "Hayward             533\n",
       "Fremont             518\n",
       "Baldwin Park        487\n",
       "Irvine              470\n",
       "Gardena             445\n",
       "Bakersfield         444\n",
       "Tracy               423\n",
       "Downey              417\n",
       "Pomona              417\n",
       "Santa Rosa          415\n",
       "Fresno              412\n",
       "Sherman Oaks        408\n",
       "Cerritos            405\n",
       "Pasadena            394\n",
       "Santa Ana           372\n",
       "Livermore           371\n",
       "Stockton            365\n",
       "                   ... \n",
       "Lake Sherwood         1\n",
       "Shoshone              1\n",
       "Redway                1\n",
       "Palm Springs          1\n",
       "Brownsville           1\n",
       "Ragged Point          1\n",
       "Muir Beach            1\n",
       "Woody                 1\n",
       "Platina               1\n",
       "Potter Valley         1\n",
       "Cassel                1\n",
       "Kneeland              1\n",
       "Dunlap                1\n",
       "Madeline Plains       1\n",
       "Macdoel               1\n",
       "Birds Landing         1\n",
       "Cobb                  1\n",
       "Windsor Hills         1\n",
       "Rancho Mirage         1\n",
       "Aliso Viejo           1\n",
       "Weldon                1\n",
       "McClellan             1\n",
       "Forbestown            1\n",
       "Landers               1\n",
       "Trinity Center        1\n",
       "Cherry Valley         1\n",
       "Los Altos Hills       1\n",
       "Monte Sereno          1\n",
       "Carlotta              1\n",
       "Ahwahnee              1\n",
       "Name: City, Length: 984, dtype: int64"
      ]
     },
     "execution_count": 68,
     "metadata": {},
     "output_type": "execute_result"
    }
   ],
   "source": [
    "df[df['State'] == 'CA']['City'].value_counts()"
   ]
  },
  {
   "cell_type": "code",
   "execution_count": 69,
   "metadata": {},
   "outputs": [
    {
     "data": {
      "text/plain": [
       "Houston            9307\n",
       "Austin             5891\n",
       "Dallas             5798\n",
       "San Antonio        2165\n",
       "El Paso             951\n",
       "Fort Worth          873\n",
       "Arlington           287\n",
       "Irving              262\n",
       "Pflugerville        229\n",
       "Mesquite            226\n",
       "Grand Prairie       212\n",
       "Manor               192\n",
       "Spring              149\n",
       "Richardson          146\n",
       "Del Valle           136\n",
       "Humble              117\n",
       "Plano               115\n",
       "Carrollton          111\n",
       "Garland             109\n",
       "Wichita Falls        84\n",
       "Pasadena             69\n",
       "Round Rock           64\n",
       "Kingwood             63\n",
       "Grapevine            62\n",
       "Lewisville           61\n",
       "Denton               60\n",
       "Hurst                54\n",
       "Katy                 50\n",
       "Lancaster            48\n",
       "Duncanville          48\n",
       "                   ... \n",
       "La Grange             1\n",
       "Bishop                1\n",
       "Killeen               1\n",
       "Overton               1\n",
       "Cibolo                1\n",
       "Frankston             1\n",
       "Littlefield           1\n",
       "Bulverde              1\n",
       "Highlands             1\n",
       "Lorena                1\n",
       "Roscoe                1\n",
       "Saginaw               1\n",
       "Mineral Wells         1\n",
       "Los Fresnos           1\n",
       "Rio Hondo             1\n",
       "Howe                  1\n",
       "Bonham                1\n",
       "Queen City            1\n",
       "Flatonia              1\n",
       "Creedmoor             1\n",
       "El Campo              1\n",
       "Sonora                1\n",
       "Fulshear              1\n",
       "Carrizo Springs       1\n",
       "Edcouch               1\n",
       "Anna                  1\n",
       "Uvalde                1\n",
       "Imperial              1\n",
       "Inez                  1\n",
       "La Joya               1\n",
       "Name: City, Length: 358, dtype: int64"
      ]
     },
     "execution_count": 69,
     "metadata": {},
     "output_type": "execute_result"
    }
   ],
   "source": [
    "df[df['State'] == 'TX']['City'].value_counts()"
   ]
  },
  {
   "cell_type": "code",
   "execution_count": 70,
   "metadata": {},
   "outputs": [
    {
     "data": {
      "text/plain": [
       "Houston                 9308\n",
       "Charlotte               6791\n",
       "Los Angeles             6519\n",
       "Austin                  5903\n",
       "Dallas                  5818\n",
       "Raleigh                 3892\n",
       "Atlanta                 3809\n",
       "Miami                   3142\n",
       "Oklahoma City           3096\n",
       "Baton Rouge             3050\n",
       "Nashville               2800\n",
       "Sacramento              2546\n",
       "Orlando                 2545\n",
       "Seattle                 2412\n",
       "Phoenix                 2356\n",
       "San Antonio             2198\n",
       "Minneapolis             2195\n",
       "San Diego               2152\n",
       "Richmond                1858\n",
       "Indianapolis            1810\n",
       "Omaha                   1771\n",
       "San Jose                1764\n",
       "Columbia                1690\n",
       "Jacksonville            1676\n",
       "Portland                1671\n",
       "Saint Paul              1644\n",
       "Denver                  1636\n",
       "Chicago                 1526\n",
       "Greenville              1492\n",
       "Tulsa                   1479\n",
       "                        ... \n",
       "Alpena                     1\n",
       "Muscoda                    1\n",
       "Weyauwega                  1\n",
       "Jemez Springs              1\n",
       "Boalsburg                  1\n",
       "Jellico                    1\n",
       "Cunningham                 1\n",
       "Giddings                   1\n",
       "Centuria                   1\n",
       "Gulliver                   1\n",
       "Rumsey                     1\n",
       "Rich Hill                  1\n",
       "Forestdale                 1\n",
       "Palm Springs               1\n",
       "Magdalena                  1\n",
       "Holly Pond                 1\n",
       "Hauser                     1\n",
       "Tunnelton                  1\n",
       "Ledyard                    1\n",
       "Florahome                  1\n",
       "Gilman                     1\n",
       "Forrest City               1\n",
       "Nassawadox                 1\n",
       "Caballo                    1\n",
       "Wishon                     1\n",
       "Warrens                    1\n",
       "Chadds Ford                1\n",
       "Gilmanton Iron Works       1\n",
       "Glen Arm                   1\n",
       "Mullan                     1\n",
       "Name: City, Length: 7734, dtype: int64"
      ]
     },
     "execution_count": 70,
     "metadata": {},
     "output_type": "execute_result"
    }
   ],
   "source": [
    "df['City'].value_counts()"
   ]
  },
  {
   "cell_type": "code",
   "execution_count": 71,
   "metadata": {},
   "outputs": [
    {
     "data": {
      "text/plain": [
       "Clear                           27170\n",
       "Mostly Cloudy                   14211\n",
       "Overcast                        13378\n",
       "Partly Cloudy                    9621\n",
       "Fair                             8210\n",
       "Scattered Clouds                 7422\n",
       "Light Rain                       4977\n",
       "Cloudy                           3148\n",
       "Light Snow                       1708\n",
       "Rain                             1240\n",
       "Haze                             1205\n",
       "Fog                               582\n",
       "Heavy Rain                        500\n",
       "Light Drizzle                     371\n",
       "Snow                              214\n",
       "Light Thunderstorms and Rain      186\n",
       "Thunderstorm                      172\n",
       "Light Freezing Rain               123\n",
       "Smoke                             119\n",
       "Fair / Windy                      117\n",
       "Heavy Thunderstorms and Rain      103\n",
       "Light Rain with Thunder            88\n",
       "Thunderstorms and Rain             85\n",
       "T-Storm                            81\n",
       "Thunder in the Vicinity            78\n",
       "Mostly Cloudy / Windy              77\n",
       "Drizzle                            72\n",
       "Mist                               67\n",
       "Patches of Fog                     66\n",
       "Cloudy / Windy                     63\n",
       "                                ...  \n",
       "Rain / Windy                        7\n",
       "T-Storm / Windy                     7\n",
       "N/A Precipitation                   6\n",
       "Light Rain Showers                  6\n",
       "Heavy T-Storm / Windy               5\n",
       "Rain Showers                        5\n",
       "Heavy Rain / Windy                  5\n",
       "Ice Pellets                         4\n",
       "Thunder / Windy                     3\n",
       "Widespread Dust                     3\n",
       "Light Drizzle / Windy               2\n",
       "Blowing Snow / Windy                2\n",
       "Wintry Mix / Windy                  1\n",
       "Snow and Sleet                      1\n",
       "Light Snow and Sleet / Windy        1\n",
       "Heavy Rain Showers                  1\n",
       "Small Hail                          1\n",
       "Light Blowing Snow                  1\n",
       "Sand / Dust Whirlwinds              1\n",
       "Blowing Dust / Windy                1\n",
       "Drizzle and Fog                     1\n",
       "Light Haze                          1\n",
       "Snow and Sleet / Windy              1\n",
       "Light Snow and Sleet                1\n",
       "Sleet                               1\n",
       "Freezing Rain                       1\n",
       "Snow / Windy                        1\n",
       "Thunder / Wintry Mix / Windy        1\n",
       "Fog / Windy                         1\n",
       "Haze / Windy                        1\n",
       "Name: Weather_Condition, Length: 74, dtype: int64"
      ]
     },
     "execution_count": 71,
     "metadata": {},
     "output_type": "execute_result"
    }
   ],
   "source": [
    "df[(df['Severity'] == 3) | (df['Severity'] == 4)]['Weather_Condition'].value_counts()"
   ]
  },
  {
   "cell_type": "code",
   "execution_count": 72,
   "metadata": {},
   "outputs": [
    {
     "data": {
      "text/plain": [
       "Clear                           2720\n",
       "Overcast                        1347\n",
       "Mostly Cloudy                   1179\n",
       "Fair                             953\n",
       "Partly Cloudy                    741\n",
       "Scattered Clouds                 644\n",
       "Light Rain                       420\n",
       "Cloudy                           345\n",
       "Light Snow                       237\n",
       "Fog                               81\n",
       "Rain                              74\n",
       "Light Drizzle                     51\n",
       "Haze                              51\n",
       "Snow                              42\n",
       "Heavy Rain                        34\n",
       "Drizzle                           17\n",
       "T-Storm                           15\n",
       "Light Freezing Rain               14\n",
       "Fair / Windy                      12\n",
       "Heavy Snow                        12\n",
       "Thunderstorm                      11\n",
       "Thunder in the Vicinity            9\n",
       "Partly Cloudy / Windy              7\n",
       "Mist                               7\n",
       "Mostly Cloudy / Windy              7\n",
       "Cloudy / Windy                     6\n",
       "Smoke                              6\n",
       "Shallow Fog                        6\n",
       "Light Thunderstorms and Rain       6\n",
       "Light Freezing Fog                 5\n",
       "Patches of Fog                     4\n",
       "Blowing Snow                       4\n",
       "Thunderstorms and Rain             4\n",
       "Light Snow / Windy                 3\n",
       "Light Freezing Drizzle             3\n",
       "Light Rain with Thunder            3\n",
       "Light Rain / Windy                 3\n",
       "Showers in the Vicinity            2\n",
       "Thunder                            2\n",
       "Heavy T-Storm                      1\n",
       "Small Hail                         1\n",
       "Wintry Mix / Windy                 1\n",
       "Light Ice Pellets                  1\n",
       "Heavy Drizzle                      1\n",
       "Heavy Rain / Windy                 1\n",
       "Wintry Mix                         1\n",
       "T-Storm / Windy                    1\n",
       "Heavy Thunderstorms and Rain       1\n",
       "Light Rain Showers                 1\n",
       "Name: Weather_Condition, dtype: int64"
      ]
     },
     "execution_count": 72,
     "metadata": {},
     "output_type": "execute_result"
    }
   ],
   "source": [
    "df[df['Severity'] == 4]['Weather_Condition'].value_counts()"
   ]
  },
  {
   "cell_type": "code",
   "execution_count": 73,
   "metadata": {},
   "outputs": [
    {
     "data": {
      "text/plain": [
       "Los Angeles           2708\n",
       "Atlanta               2414\n",
       "Dallas                2212\n",
       "Houston               2126\n",
       "Miami                 1190\n",
       "Jacksonville          1133\n",
       "San Diego             1039\n",
       "Minneapolis           1000\n",
       "Saint Paul             832\n",
       "Denver                 797\n",
       "Chicago                781\n",
       "Detroit                770\n",
       "Nashville              766\n",
       "Austin                 730\n",
       "Seattle                714\n",
       "Phoenix                701\n",
       "Louisville             683\n",
       "Saint Louis            673\n",
       "Raleigh                660\n",
       "Oakland                646\n",
       "Fort Lauderdale        613\n",
       "Fort Worth             603\n",
       "Bronx                  582\n",
       "San Antonio            577\n",
       "Sacramento             571\n",
       "Columbus               561\n",
       "Tampa                  560\n",
       "Richmond               541\n",
       "Columbia               535\n",
       "San Jose               531\n",
       "                      ... \n",
       "Salado                   1\n",
       "Larwill                  1\n",
       "Palm Harbor              1\n",
       "Kingsley                 1\n",
       "Tullahoma                1\n",
       "Shadyside                1\n",
       "Evansdale                1\n",
       "North Creek              1\n",
       "Tracys Landing           1\n",
       "Lamoni                   1\n",
       "Dardanelle               1\n",
       "Piffard                  1\n",
       "Foristell                1\n",
       "Van Wert                 1\n",
       "Rockaway Beach           1\n",
       "Delran                   1\n",
       "Nunda                    1\n",
       "Hobbs                    1\n",
       "New Concord              1\n",
       "Mount Union              1\n",
       "McMinnville              1\n",
       "Shoemakersville          1\n",
       "Hurricane Mills          1\n",
       "Cobleskill               1\n",
       "Garden Prairie           1\n",
       "Cold Spring Harbor       1\n",
       "New Lisbon               1\n",
       "Middle River             1\n",
       "Barnhart                 1\n",
       "Mullan                   1\n",
       "Name: City, Length: 5089, dtype: int64"
      ]
     },
     "execution_count": 73,
     "metadata": {},
     "output_type": "execute_result"
    }
   ],
   "source": [
    "df[(df['Severity'] == 3) | (df['Severity'] == 4)]['City'].value_counts()"
   ]
  },
  {
   "cell_type": "code",
   "execution_count": 74,
   "metadata": {},
   "outputs": [
    {
     "data": {
      "text/plain": [
       "138.562"
      ]
     },
     "execution_count": 74,
     "metadata": {},
     "output_type": "execute_result"
    }
   ],
   "source": [
    "df['Distance(mi)'].max()"
   ]
  },
  {
   "cell_type": "code",
   "execution_count": 75,
   "metadata": {},
   "outputs": [
    {
     "data": {
      "text/plain": [
       "0.0"
      ]
     },
     "execution_count": 75,
     "metadata": {},
     "output_type": "execute_result"
    }
   ],
   "source": [
    "df['Distance(mi)'].median()"
   ]
  },
  {
   "cell_type": "code",
   "execution_count": 76,
   "metadata": {},
   "outputs": [
    {
     "data": {
      "text/plain": [
       "0.2874801064447822"
      ]
     },
     "execution_count": 76,
     "metadata": {},
     "output_type": "execute_result"
    }
   ],
   "source": [
    "df['Distance(mi)'].mean()"
   ]
  },
  {
   "cell_type": "code",
   "execution_count": 77,
   "metadata": {},
   "outputs": [
    {
     "data": {
      "text/plain": [
       "279851    Ontario\n",
       "Name: City, dtype: object"
      ]
     },
     "execution_count": 77,
     "metadata": {},
     "output_type": "execute_result"
    }
   ],
   "source": [
    "df[df['Distance(mi)'] == df['Distance(mi)'].max()]['City']"
   ]
  },
  {
   "cell_type": "code",
   "execution_count": 78,
   "metadata": {},
   "outputs": [
    {
     "data": {
      "text/plain": [
       "87"
      ]
     },
     "execution_count": 78,
     "metadata": {},
     "output_type": "execute_result"
    }
   ],
   "source": [
    "df['Weather_Condition'].nunique()"
   ]
  },
  {
   "cell_type": "code",
   "execution_count": 79,
   "metadata": {},
   "outputs": [
    {
     "name": "stdout",
     "output_type": "stream",
     "text": [
      "No     293893\n",
      "Yes      3541\n",
      "Name: Amenity, dtype: int64\n",
      "No     297386\n",
      "Yes        48\n",
      "Name: Bump, dtype: int64\n",
      "No     276630\n",
      "Yes     20804\n",
      "Name: Crossing, dtype: int64\n",
      "No     296697\n",
      "Yes       737\n",
      "Name: Give_Way, dtype: int64\n",
      "No     273621\n",
      "Yes     23813\n",
      "Name: Junction, dtype: int64\n",
      "No     297087\n",
      "Yes       347\n",
      "Name: No_Exit, dtype: int64\n",
      "No     294945\n",
      "Yes      2489\n",
      "Name: Railway, dtype: int64\n",
      "No     297416\n",
      "Yes        18\n",
      "Name: Roundabout, dtype: int64\n",
      "No     291692\n",
      "Yes      5742\n",
      "Name: Station, dtype: int64\n",
      "No     293400\n",
      "Yes      4034\n",
      "Name: Stop, dtype: int64\n",
      "No     297310\n",
      "Yes       124\n",
      "Name: Traffic_Calming, dtype: int64\n",
      "No     247311\n",
      "Yes     50123\n",
      "Name: Traffic_Signal, dtype: int64\n",
      "No    297434\n",
      "Name: Turning_Loop, dtype: int64\n"
     ]
    }
   ],
   "source": [
    "for i in boolean_cols:\n",
    "    print(df[i].value_counts())"
   ]
  },
  {
   "cell_type": "code",
   "execution_count": null,
   "metadata": {},
   "outputs": [],
   "source": []
  },
  {
   "cell_type": "code",
   "execution_count": null,
   "metadata": {},
   "outputs": [],
   "source": []
  },
  {
   "cell_type": "code",
   "execution_count": null,
   "metadata": {},
   "outputs": [],
   "source": []
  },
  {
   "cell_type": "code",
   "execution_count": 80,
   "metadata": {},
   "outputs": [],
   "source": [
    "# EDA - df_weather_not_null"
   ]
  },
  {
   "cell_type": "code",
   "execution_count": 81,
   "metadata": {},
   "outputs": [
    {
     "data": {
      "text/html": [
       "<div>\n",
       "<style scoped>\n",
       "    .dataframe tbody tr th:only-of-type {\n",
       "        vertical-align: middle;\n",
       "    }\n",
       "\n",
       "    .dataframe tbody tr th {\n",
       "        vertical-align: top;\n",
       "    }\n",
       "\n",
       "    .dataframe thead th {\n",
       "        text-align: right;\n",
       "    }\n",
       "</style>\n",
       "<table border=\"1\" class=\"dataframe\">\n",
       "  <thead>\n",
       "    <tr style=\"text-align: right;\">\n",
       "      <th></th>\n",
       "      <th>Unnamed: 0</th>\n",
       "      <th>TMC</th>\n",
       "      <th>Severity</th>\n",
       "      <th>Latitude</th>\n",
       "      <th>Longitude</th>\n",
       "      <th>End_Lat</th>\n",
       "      <th>End_Lng</th>\n",
       "      <th>Distance(mi)</th>\n",
       "      <th>Number</th>\n",
       "      <th>Temperature(F)</th>\n",
       "      <th>Wind_Chill(F)</th>\n",
       "      <th>Humidity(%)</th>\n",
       "      <th>Pressure(in)</th>\n",
       "      <th>Visibility(mi)</th>\n",
       "      <th>Wind_Speed(mph)</th>\n",
       "      <th>Precipitation(in)</th>\n",
       "    </tr>\n",
       "  </thead>\n",
       "  <tbody>\n",
       "    <tr>\n",
       "      <th>count</th>\n",
       "      <td>2.909810e+05</td>\n",
       "      <td>220062.000000</td>\n",
       "      <td>290981.000000</td>\n",
       "      <td>290981.000000</td>\n",
       "      <td>290981.000000</td>\n",
       "      <td>70919.000000</td>\n",
       "      <td>70919.000000</td>\n",
       "      <td>290981.000000</td>\n",
       "      <td>103070.000000</td>\n",
       "      <td>289981.000000</td>\n",
       "      <td>111867.000000</td>\n",
       "      <td>289674.000000</td>\n",
       "      <td>290635.000000</td>\n",
       "      <td>290291.000000</td>\n",
       "      <td>252692.000000</td>\n",
       "      <td>96996.000000</td>\n",
       "    </tr>\n",
       "    <tr>\n",
       "      <th>mean</th>\n",
       "      <td>1.484503e+06</td>\n",
       "      <td>207.789918</td>\n",
       "      <td>2.360697</td>\n",
       "      <td>36.480817</td>\n",
       "      <td>-95.479402</td>\n",
       "      <td>37.566549</td>\n",
       "      <td>-100.043415</td>\n",
       "      <td>0.285093</td>\n",
       "      <td>5821.918104</td>\n",
       "      <td>62.381167</td>\n",
       "      <td>51.377116</td>\n",
       "      <td>65.397623</td>\n",
       "      <td>29.831405</td>\n",
       "      <td>9.153881</td>\n",
       "      <td>8.293982</td>\n",
       "      <td>0.019798</td>\n",
       "    </tr>\n",
       "    <tr>\n",
       "      <th>std</th>\n",
       "      <td>8.582048e+05</td>\n",
       "      <td>20.126705</td>\n",
       "      <td>0.542055</td>\n",
       "      <td>4.934076</td>\n",
       "      <td>17.200841</td>\n",
       "      <td>5.024527</td>\n",
       "      <td>18.409256</td>\n",
       "      <td>1.510321</td>\n",
       "      <td>11777.867113</td>\n",
       "      <td>18.758840</td>\n",
       "      <td>25.169375</td>\n",
       "      <td>22.558904</td>\n",
       "      <td>0.719931</td>\n",
       "      <td>2.874570</td>\n",
       "      <td>4.872707</td>\n",
       "      <td>0.224355</td>\n",
       "    </tr>\n",
       "    <tr>\n",
       "      <th>min</th>\n",
       "      <td>0.000000e+00</td>\n",
       "      <td>200.000000</td>\n",
       "      <td>1.000000</td>\n",
       "      <td>24.560688</td>\n",
       "      <td>-124.623833</td>\n",
       "      <td>24.571240</td>\n",
       "      <td>-124.497419</td>\n",
       "      <td>0.000000</td>\n",
       "      <td>1.000000</td>\n",
       "      <td>-29.900000</td>\n",
       "      <td>-53.200000</td>\n",
       "      <td>1.000000</td>\n",
       "      <td>0.300000</td>\n",
       "      <td>0.000000</td>\n",
       "      <td>0.000000</td>\n",
       "      <td>0.000000</td>\n",
       "    </tr>\n",
       "    <tr>\n",
       "      <th>25%</th>\n",
       "      <td>7.413300e+05</td>\n",
       "      <td>201.000000</td>\n",
       "      <td>2.000000</td>\n",
       "      <td>33.541580</td>\n",
       "      <td>-117.302010</td>\n",
       "      <td>33.940680</td>\n",
       "      <td>-118.291911</td>\n",
       "      <td>0.000000</td>\n",
       "      <td>837.000000</td>\n",
       "      <td>50.000000</td>\n",
       "      <td>32.000000</td>\n",
       "      <td>49.000000</td>\n",
       "      <td>29.820000</td>\n",
       "      <td>10.000000</td>\n",
       "      <td>4.600000</td>\n",
       "      <td>0.000000</td>\n",
       "    </tr>\n",
       "    <tr>\n",
       "      <th>50%</th>\n",
       "      <td>1.481790e+06</td>\n",
       "      <td>201.000000</td>\n",
       "      <td>2.000000</td>\n",
       "      <td>35.828503</td>\n",
       "      <td>-90.269028</td>\n",
       "      <td>37.891270</td>\n",
       "      <td>-96.655310</td>\n",
       "      <td>0.000000</td>\n",
       "      <td>2723.000000</td>\n",
       "      <td>64.400000</td>\n",
       "      <td>54.000000</td>\n",
       "      <td>68.000000</td>\n",
       "      <td>29.980000</td>\n",
       "      <td>10.000000</td>\n",
       "      <td>7.000000</td>\n",
       "      <td>0.000000</td>\n",
       "    </tr>\n",
       "    <tr>\n",
       "      <th>75%</th>\n",
       "      <td>2.227290e+06</td>\n",
       "      <td>201.000000</td>\n",
       "      <td>3.000000</td>\n",
       "      <td>40.408409</td>\n",
       "      <td>-80.955902</td>\n",
       "      <td>41.430099</td>\n",
       "      <td>-82.389041</td>\n",
       "      <td>0.010000</td>\n",
       "      <td>6999.000000</td>\n",
       "      <td>76.000000</td>\n",
       "      <td>73.000000</td>\n",
       "      <td>84.000000</td>\n",
       "      <td>30.110000</td>\n",
       "      <td>10.000000</td>\n",
       "      <td>10.400000</td>\n",
       "      <td>0.000000</td>\n",
       "    </tr>\n",
       "    <tr>\n",
       "      <th>max</th>\n",
       "      <td>2.974330e+06</td>\n",
       "      <td>406.000000</td>\n",
       "      <td>4.000000</td>\n",
       "      <td>49.000260</td>\n",
       "      <td>-67.606864</td>\n",
       "      <td>49.000760</td>\n",
       "      <td>-67.626576</td>\n",
       "      <td>138.562000</td>\n",
       "      <td>852599.000000</td>\n",
       "      <td>140.000000</td>\n",
       "      <td>115.000000</td>\n",
       "      <td>100.000000</td>\n",
       "      <td>33.040000</td>\n",
       "      <td>80.000000</td>\n",
       "      <td>175.000000</td>\n",
       "      <td>10.140000</td>\n",
       "    </tr>\n",
       "  </tbody>\n",
       "</table>\n",
       "</div>"
      ],
      "text/plain": [
       "         Unnamed: 0            TMC       Severity       Latitude  \\\n",
       "count  2.909810e+05  220062.000000  290981.000000  290981.000000   \n",
       "mean   1.484503e+06     207.789918       2.360697      36.480817   \n",
       "std    8.582048e+05      20.126705       0.542055       4.934076   \n",
       "min    0.000000e+00     200.000000       1.000000      24.560688   \n",
       "25%    7.413300e+05     201.000000       2.000000      33.541580   \n",
       "50%    1.481790e+06     201.000000       2.000000      35.828503   \n",
       "75%    2.227290e+06     201.000000       3.000000      40.408409   \n",
       "max    2.974330e+06     406.000000       4.000000      49.000260   \n",
       "\n",
       "           Longitude       End_Lat       End_Lng   Distance(mi)  \\\n",
       "count  290981.000000  70919.000000  70919.000000  290981.000000   \n",
       "mean      -95.479402     37.566549   -100.043415       0.285093   \n",
       "std        17.200841      5.024527     18.409256       1.510321   \n",
       "min      -124.623833     24.571240   -124.497419       0.000000   \n",
       "25%      -117.302010     33.940680   -118.291911       0.000000   \n",
       "50%       -90.269028     37.891270    -96.655310       0.000000   \n",
       "75%       -80.955902     41.430099    -82.389041       0.010000   \n",
       "max       -67.606864     49.000760    -67.626576     138.562000   \n",
       "\n",
       "              Number  Temperature(F)  Wind_Chill(F)    Humidity(%)  \\\n",
       "count  103070.000000   289981.000000  111867.000000  289674.000000   \n",
       "mean     5821.918104       62.381167      51.377116      65.397623   \n",
       "std     11777.867113       18.758840      25.169375      22.558904   \n",
       "min         1.000000      -29.900000     -53.200000       1.000000   \n",
       "25%       837.000000       50.000000      32.000000      49.000000   \n",
       "50%      2723.000000       64.400000      54.000000      68.000000   \n",
       "75%      6999.000000       76.000000      73.000000      84.000000   \n",
       "max    852599.000000      140.000000     115.000000     100.000000   \n",
       "\n",
       "        Pressure(in)  Visibility(mi)  Wind_Speed(mph)  Precipitation(in)  \n",
       "count  290635.000000   290291.000000    252692.000000       96996.000000  \n",
       "mean       29.831405        9.153881         8.293982           0.019798  \n",
       "std         0.719931        2.874570         4.872707           0.224355  \n",
       "min         0.300000        0.000000         0.000000           0.000000  \n",
       "25%        29.820000       10.000000         4.600000           0.000000  \n",
       "50%        29.980000       10.000000         7.000000           0.000000  \n",
       "75%        30.110000       10.000000        10.400000           0.000000  \n",
       "max        33.040000       80.000000       175.000000          10.140000  "
      ]
     },
     "execution_count": 81,
     "metadata": {},
     "output_type": "execute_result"
    }
   ],
   "source": [
    "df_weather_not_null.describe()"
   ]
  },
  {
   "cell_type": "code",
   "execution_count": 82,
   "metadata": {},
   "outputs": [
    {
     "name": "stdout",
     "output_type": "stream",
     "text": [
      "<class 'pandas.core.frame.DataFrame'>\n",
      "Int64Index: 290981 entries, 0 to 297433\n",
      "Data columns (total 58 columns):\n",
      "Unnamed: 0               290981 non-null int64\n",
      "ID                       290981 non-null object\n",
      "Source                   290981 non-null object\n",
      "TMC                      220062 non-null float64\n",
      "Severity                 290981 non-null int64\n",
      "Start_Time               290981 non-null object\n",
      "End_Time                 290981 non-null object\n",
      "Start Date               290981 non-null object\n",
      "End Date                 290981 non-null object\n",
      "Start Time               290981 non-null object\n",
      "End Time                 290981 non-null object\n",
      "Start Hour               290981 non-null object\n",
      "End Hour                 290981 non-null object\n",
      "Day Of Week              290981 non-null object\n",
      "Latitude                 290981 non-null float64\n",
      "Longitude                290981 non-null float64\n",
      "End_Lat                  70919 non-null float64\n",
      "End_Lng                  70919 non-null float64\n",
      "Distance(mi)             290981 non-null float64\n",
      "Description              290981 non-null object\n",
      "Number                   103070 non-null float64\n",
      "Street                   290981 non-null object\n",
      "Side                     290981 non-null object\n",
      "City                     290975 non-null object\n",
      "County                   290981 non-null object\n",
      "State                    290981 non-null object\n",
      "Zipcode                  290981 non-null object\n",
      "Country                  290981 non-null object\n",
      "Timezone                 290981 non-null object\n",
      "Airport_Code             290981 non-null object\n",
      "Weather_Timestamp        290981 non-null object\n",
      "Temperature(F)           289981 non-null float64\n",
      "Wind_Chill(F)            111867 non-null float64\n",
      "Humidity(%)              289674 non-null float64\n",
      "Pressure(in)             290635 non-null float64\n",
      "Visibility(mi)           290291 non-null float64\n",
      "Wind_Direction           290460 non-null object\n",
      "Wind_Speed(mph)          252692 non-null float64\n",
      "Precipitation(in)        96996 non-null float64\n",
      "Weather_Condition        290981 non-null object\n",
      "Amenity                  290981 non-null object\n",
      "Bump                     290981 non-null object\n",
      "Crossing                 290981 non-null object\n",
      "Give_Way                 290981 non-null object\n",
      "Junction                 290981 non-null object\n",
      "No_Exit                  290981 non-null object\n",
      "Railway                  290981 non-null object\n",
      "Roundabout               290981 non-null object\n",
      "Station                  290981 non-null object\n",
      "Stop                     290981 non-null object\n",
      "Traffic_Calming          290981 non-null object\n",
      "Traffic_Signal           290981 non-null object\n",
      "Turning_Loop             290981 non-null object\n",
      "Sunrise_Sunset           290981 non-null object\n",
      "Civil_Twilight           290981 non-null object\n",
      "Nautical_Twilight        290981 non-null object\n",
      "Astronomical_Twilight    290981 non-null object\n",
      "Twilight                 290981 non-null object\n",
      "dtypes: float64(14), int64(2), object(42)\n",
      "memory usage: 131.0+ MB\n"
     ]
    }
   ],
   "source": [
    "df_weather_not_null.info()"
   ]
  },
  {
   "cell_type": "code",
   "execution_count": 83,
   "metadata": {},
   "outputs": [
    {
     "data": {
      "text/plain": [
       "Unnamed: 0                    0\n",
       "ID                            0\n",
       "Source                        0\n",
       "TMC                       70919\n",
       "Severity                      0\n",
       "Start_Time                    0\n",
       "End_Time                      0\n",
       "Start Date                    0\n",
       "End Date                      0\n",
       "Start Time                    0\n",
       "End Time                      0\n",
       "Start Hour                    0\n",
       "End Hour                      0\n",
       "Day Of Week                   0\n",
       "Latitude                      0\n",
       "Longitude                     0\n",
       "End_Lat                  220062\n",
       "End_Lng                  220062\n",
       "Distance(mi)                  0\n",
       "Description                   0\n",
       "Number                   187911\n",
       "Street                        0\n",
       "Side                          0\n",
       "City                          6\n",
       "County                        0\n",
       "State                         0\n",
       "Zipcode                       0\n",
       "Country                       0\n",
       "Timezone                      0\n",
       "Airport_Code                  0\n",
       "Weather_Timestamp             0\n",
       "Temperature(F)             1000\n",
       "Wind_Chill(F)            179114\n",
       "Humidity(%)                1307\n",
       "Pressure(in)                346\n",
       "Visibility(mi)              690\n",
       "Wind_Direction              521\n",
       "Wind_Speed(mph)           38289\n",
       "Precipitation(in)        193985\n",
       "Weather_Condition             0\n",
       "Amenity                       0\n",
       "Bump                          0\n",
       "Crossing                      0\n",
       "Give_Way                      0\n",
       "Junction                      0\n",
       "No_Exit                       0\n",
       "Railway                       0\n",
       "Roundabout                    0\n",
       "Station                       0\n",
       "Stop                          0\n",
       "Traffic_Calming               0\n",
       "Traffic_Signal                0\n",
       "Turning_Loop                  0\n",
       "Sunrise_Sunset                0\n",
       "Civil_Twilight                0\n",
       "Nautical_Twilight             0\n",
       "Astronomical_Twilight         0\n",
       "Twilight                      0\n",
       "dtype: int64"
      ]
     },
     "execution_count": 83,
     "metadata": {},
     "output_type": "execute_result"
    }
   ],
   "source": [
    "df_weather_not_null.isnull().sum()"
   ]
  },
  {
   "cell_type": "code",
   "execution_count": 84,
   "metadata": {},
   "outputs": [
    {
     "data": {
      "text/plain": [
       "10.0"
      ]
     },
     "execution_count": 84,
     "metadata": {},
     "output_type": "execute_result"
    }
   ],
   "source": [
    "df_weather_not_null[(df_weather_not_null['Severity'] == 3) | (df_weather_not_null['Severity'] == 4)]['Visibility(mi)'].median()"
   ]
  },
  {
   "cell_type": "code",
   "execution_count": 85,
   "metadata": {},
   "outputs": [
    {
     "data": {
      "text/plain": [
       "10.0"
      ]
     },
     "execution_count": 85,
     "metadata": {},
     "output_type": "execute_result"
    }
   ],
   "source": [
    "df_weather_not_null[(df_weather_not_null['Severity'] == 1) | (df_weather_not_null['Severity'] == 2)]['Visibility(mi)'].median()"
   ]
  },
  {
   "cell_type": "code",
   "execution_count": 86,
   "metadata": {},
   "outputs": [
    {
     "data": {
      "text/plain": [
       "0.02657651760490426"
      ]
     },
     "execution_count": 86,
     "metadata": {},
     "output_type": "execute_result"
    }
   ],
   "source": [
    "df_weather_not_null[(df_weather_not_null['Severity'] == 3) | (df_weather_not_null['Severity'] == 4)]['Precipitation(in)'].mean()"
   ]
  },
  {
   "cell_type": "code",
   "execution_count": 87,
   "metadata": {},
   "outputs": [
    {
     "data": {
      "text/plain": [
       "0.016902898337500222"
      ]
     },
     "execution_count": 87,
     "metadata": {},
     "output_type": "execute_result"
    }
   ],
   "source": [
    "df_weather_not_null[(df_weather_not_null['Severity'] == 1) | (df_weather_not_null['Severity'] == 2)]['Precipitation(in)'].mean()"
   ]
  },
  {
   "cell_type": "code",
   "execution_count": 88,
   "metadata": {},
   "outputs": [
    {
     "data": {
      "text/plain": [
       "Houston              9094\n",
       "Charlotte            6778\n",
       "Los Angeles          6497\n",
       "Austin               5845\n",
       "Dallas               5787\n",
       "Raleigh              3886\n",
       "Atlanta              3792\n",
       "Miami                3127\n",
       "Oklahoma City        3091\n",
       "Baton Rouge          3042\n",
       "Nashville            2797\n",
       "Sacramento           2533\n",
       "Orlando              2529\n",
       "Seattle              2411\n",
       "Phoenix              2281\n",
       "San Antonio          2192\n",
       "Minneapolis          2190\n",
       "San Diego            2152\n",
       "Indianapolis         1782\n",
       "Richmond             1766\n",
       "Omaha                1764\n",
       "San Jose             1757\n",
       "Portland             1667\n",
       "Jacksonville         1667\n",
       "Columbia             1663\n",
       "Denver               1629\n",
       "Saint Paul           1620\n",
       "Chicago              1524\n",
       "Greenville           1487\n",
       "Tulsa                1477\n",
       "                     ... \n",
       "Hartsdale               1\n",
       "Summersville            1\n",
       "Shavertown              1\n",
       "Fort Ripley             1\n",
       "Bald Knob               1\n",
       "Hosston                 1\n",
       "Neodesha                1\n",
       "Rough and Ready         1\n",
       "Center Harbor           1\n",
       "Mecca                   1\n",
       "Owego                   1\n",
       "New Concord             1\n",
       "Hobbs                   1\n",
       "Walworth                1\n",
       "Brogue                  1\n",
       "Champions Gate          1\n",
       "Sikeston                1\n",
       "Springtown              1\n",
       "Larsen                  1\n",
       "Pine Bush               1\n",
       "Aspers                  1\n",
       "Edgar                   1\n",
       "Piffard                 1\n",
       "Mardela Springs         1\n",
       "Middlesboro             1\n",
       "Sellersville            1\n",
       "Candor                  1\n",
       "South Londonderry       1\n",
       "Searcy                  1\n",
       "Mullan                  1\n",
       "Name: City, Length: 7605, dtype: int64"
      ]
     },
     "execution_count": 88,
     "metadata": {},
     "output_type": "execute_result"
    }
   ],
   "source": [
    "df_weather_not_null['City'].value_counts()"
   ]
  },
  {
   "cell_type": "code",
   "execution_count": 89,
   "metadata": {},
   "outputs": [
    {
     "data": {
      "text/plain": [
       "Los Angeles             2697\n",
       "Atlanta                 2403\n",
       "Dallas                  2196\n",
       "Houston                 2087\n",
       "Miami                   1182\n",
       "Jacksonville            1126\n",
       "San Diego               1039\n",
       "Minneapolis              995\n",
       "Saint Paul               820\n",
       "Denver                   794\n",
       "Chicago                  779\n",
       "Detroit                  769\n",
       "Nashville                765\n",
       "Austin                   721\n",
       "Seattle                  714\n",
       "Phoenix                  688\n",
       "Louisville               683\n",
       "Saint Louis              670\n",
       "Raleigh                  658\n",
       "Oakland                  646\n",
       "Fort Lauderdale          611\n",
       "Bronx                    581\n",
       "San Antonio              575\n",
       "Sacramento               566\n",
       "Columbus                 556\n",
       "Tampa                    532\n",
       "San Jose                 530\n",
       "Richmond                 522\n",
       "Columbia                 521\n",
       "Long Beach               521\n",
       "                        ... \n",
       "Clover                     1\n",
       "Glorieta                   1\n",
       "Coupland                   1\n",
       "Nedrow                     1\n",
       "Lithia                     1\n",
       "Viola                      1\n",
       "Haines                     1\n",
       "Baraboo                    1\n",
       "Freeman                    1\n",
       "Florham Park               1\n",
       "Pittsboro                  1\n",
       "Coalgate                   1\n",
       "Weare                      1\n",
       "Castleberry                1\n",
       "Arroyo Grande              1\n",
       "West Sand Lake             1\n",
       "Rappahannock Academy       1\n",
       "Danforth                   1\n",
       "Van Etten                  1\n",
       "Gum Spring                 1\n",
       "Gasport                    1\n",
       "Rayland                    1\n",
       "Green Cove Springs         1\n",
       "Good Hope                  1\n",
       "Bridport                   1\n",
       "West Contra Costa          1\n",
       "Lemont Furnace             1\n",
       "Selbyville                 1\n",
       "Gilchrist                  1\n",
       "Mullan                     1\n",
       "Name: City, Length: 5003, dtype: int64"
      ]
     },
     "execution_count": 89,
     "metadata": {},
     "output_type": "execute_result"
    }
   ],
   "source": [
    "df_weather_not_null[(df_weather_not_null['Severity'] == 3) | (df_weather_not_null['Severity'] == 4)]['City'].value_counts()"
   ]
  },
  {
   "cell_type": "code",
   "execution_count": null,
   "metadata": {},
   "outputs": [],
   "source": []
  },
  {
   "cell_type": "code",
   "execution_count": null,
   "metadata": {},
   "outputs": [],
   "source": []
  },
  {
   "cell_type": "code",
   "execution_count": null,
   "metadata": {},
   "outputs": [],
   "source": []
  },
  {
   "cell_type": "code",
   "execution_count": 42,
   "metadata": {},
   "outputs": [],
   "source": [
    "# EDA - df_columns_not_null"
   ]
  },
  {
   "cell_type": "code",
   "execution_count": 43,
   "metadata": {},
   "outputs": [],
   "source": [
    "import matplotlib.pyplot as plt\n",
    "import seaborn as sns"
   ]
  },
  {
   "cell_type": "code",
   "execution_count": 44,
   "metadata": {},
   "outputs": [],
   "source": [
    "# Website may be useful: \n",
    "# https://datascience.stackexchange.com/questions/17759/encoding-features-like-month-and-hour-as-categorial-or-numeric"
   ]
  },
  {
   "cell_type": "code",
   "execution_count": 45,
   "metadata": {},
   "outputs": [
    {
     "data": {
      "text/html": [
       "<div>\n",
       "<style scoped>\n",
       "    .dataframe tbody tr th:only-of-type {\n",
       "        vertical-align: middle;\n",
       "    }\n",
       "\n",
       "    .dataframe tbody tr th {\n",
       "        vertical-align: top;\n",
       "    }\n",
       "\n",
       "    .dataframe thead th {\n",
       "        text-align: right;\n",
       "    }\n",
       "</style>\n",
       "<table border=\"1\" class=\"dataframe\">\n",
       "  <thead>\n",
       "    <tr style=\"text-align: right;\">\n",
       "      <th></th>\n",
       "      <th>Unnamed: 0</th>\n",
       "      <th>ID</th>\n",
       "      <th>Source</th>\n",
       "      <th>TMC</th>\n",
       "      <th>Severity</th>\n",
       "      <th>Start_Time</th>\n",
       "      <th>End_Time</th>\n",
       "      <th>Month</th>\n",
       "      <th>Year</th>\n",
       "      <th>Start Date</th>\n",
       "      <th>...</th>\n",
       "      <th>Station</th>\n",
       "      <th>Stop</th>\n",
       "      <th>Traffic_Calming</th>\n",
       "      <th>Traffic_Signal</th>\n",
       "      <th>Turning_Loop</th>\n",
       "      <th>Sunrise_Sunset</th>\n",
       "      <th>Civil_Twilight</th>\n",
       "      <th>Nautical_Twilight</th>\n",
       "      <th>Astronomical_Twilight</th>\n",
       "      <th>Twilight</th>\n",
       "    </tr>\n",
       "  </thead>\n",
       "  <tbody>\n",
       "    <tr>\n",
       "      <th>0</th>\n",
       "      <td>0</td>\n",
       "      <td>A-1</td>\n",
       "      <td>MapQuest</td>\n",
       "      <td>201.0</td>\n",
       "      <td>3</td>\n",
       "      <td>2016-02-08 05:46:00</td>\n",
       "      <td>2016-02-08 11:00:00</td>\n",
       "      <td>2016-02</td>\n",
       "      <td>2016</td>\n",
       "      <td>2016-02-08</td>\n",
       "      <td>...</td>\n",
       "      <td>No</td>\n",
       "      <td>No</td>\n",
       "      <td>No</td>\n",
       "      <td>No</td>\n",
       "      <td>No</td>\n",
       "      <td>Night</td>\n",
       "      <td>Night</td>\n",
       "      <td>Night</td>\n",
       "      <td>Night</td>\n",
       "      <td>Night</td>\n",
       "    </tr>\n",
       "    <tr>\n",
       "      <th>1</th>\n",
       "      <td>10</td>\n",
       "      <td>A-11</td>\n",
       "      <td>MapQuest</td>\n",
       "      <td>201.0</td>\n",
       "      <td>3</td>\n",
       "      <td>2016-02-08 08:14:42</td>\n",
       "      <td>2016-02-08 08:44:42</td>\n",
       "      <td>2016-02</td>\n",
       "      <td>2016</td>\n",
       "      <td>2016-02-08</td>\n",
       "      <td>...</td>\n",
       "      <td>No</td>\n",
       "      <td>No</td>\n",
       "      <td>No</td>\n",
       "      <td>No</td>\n",
       "      <td>No</td>\n",
       "      <td>Day</td>\n",
       "      <td>Day</td>\n",
       "      <td>Day</td>\n",
       "      <td>Day</td>\n",
       "      <td>Day</td>\n",
       "    </tr>\n",
       "    <tr>\n",
       "      <th>2</th>\n",
       "      <td>20</td>\n",
       "      <td>A-21</td>\n",
       "      <td>MapQuest</td>\n",
       "      <td>201.0</td>\n",
       "      <td>2</td>\n",
       "      <td>2016-02-08 10:11:15</td>\n",
       "      <td>2016-02-08 10:41:15</td>\n",
       "      <td>2016-02</td>\n",
       "      <td>2016</td>\n",
       "      <td>2016-02-08</td>\n",
       "      <td>...</td>\n",
       "      <td>No</td>\n",
       "      <td>No</td>\n",
       "      <td>No</td>\n",
       "      <td>No</td>\n",
       "      <td>No</td>\n",
       "      <td>Day</td>\n",
       "      <td>Day</td>\n",
       "      <td>Day</td>\n",
       "      <td>Day</td>\n",
       "      <td>Day</td>\n",
       "    </tr>\n",
       "    <tr>\n",
       "      <th>3</th>\n",
       "      <td>30</td>\n",
       "      <td>A-31</td>\n",
       "      <td>MapQuest</td>\n",
       "      <td>201.0</td>\n",
       "      <td>2</td>\n",
       "      <td>2016-02-08 16:16:08</td>\n",
       "      <td>2016-02-08 16:46:08</td>\n",
       "      <td>2016-02</td>\n",
       "      <td>2016</td>\n",
       "      <td>2016-02-08</td>\n",
       "      <td>...</td>\n",
       "      <td>No</td>\n",
       "      <td>No</td>\n",
       "      <td>No</td>\n",
       "      <td>Yes</td>\n",
       "      <td>No</td>\n",
       "      <td>Day</td>\n",
       "      <td>Day</td>\n",
       "      <td>Day</td>\n",
       "      <td>Day</td>\n",
       "      <td>Day</td>\n",
       "    </tr>\n",
       "    <tr>\n",
       "      <th>4</th>\n",
       "      <td>40</td>\n",
       "      <td>A-41</td>\n",
       "      <td>MapQuest</td>\n",
       "      <td>201.0</td>\n",
       "      <td>2</td>\n",
       "      <td>2016-02-09 05:40:57</td>\n",
       "      <td>2016-02-09 06:10:57</td>\n",
       "      <td>2016-02</td>\n",
       "      <td>2016</td>\n",
       "      <td>2016-02-09</td>\n",
       "      <td>...</td>\n",
       "      <td>No</td>\n",
       "      <td>No</td>\n",
       "      <td>No</td>\n",
       "      <td>No</td>\n",
       "      <td>No</td>\n",
       "      <td>Night</td>\n",
       "      <td>Night</td>\n",
       "      <td>Night</td>\n",
       "      <td>Night</td>\n",
       "      <td>Night</td>\n",
       "    </tr>\n",
       "  </tbody>\n",
       "</table>\n",
       "<p>5 rows × 60 columns</p>\n",
       "</div>"
      ],
      "text/plain": [
       "   Unnamed: 0    ID    Source    TMC  Severity           Start_Time  \\\n",
       "0           0   A-1  MapQuest  201.0         3  2016-02-08 05:46:00   \n",
       "1          10  A-11  MapQuest  201.0         3  2016-02-08 08:14:42   \n",
       "2          20  A-21  MapQuest  201.0         2  2016-02-08 10:11:15   \n",
       "3          30  A-31  MapQuest  201.0         2  2016-02-08 16:16:08   \n",
       "4          40  A-41  MapQuest  201.0         2  2016-02-09 05:40:57   \n",
       "\n",
       "              End_Time    Month  Year  Start Date    ...    Station Stop  \\\n",
       "0  2016-02-08 11:00:00  2016-02  2016  2016-02-08    ...         No   No   \n",
       "1  2016-02-08 08:44:42  2016-02  2016  2016-02-08    ...         No   No   \n",
       "2  2016-02-08 10:41:15  2016-02  2016  2016-02-08    ...         No   No   \n",
       "3  2016-02-08 16:46:08  2016-02  2016  2016-02-08    ...         No   No   \n",
       "4  2016-02-09 06:10:57  2016-02  2016  2016-02-09    ...         No   No   \n",
       "\n",
       "  Traffic_Calming Traffic_Signal Turning_Loop Sunrise_Sunset  Civil_Twilight  \\\n",
       "0              No             No           No          Night           Night   \n",
       "1              No             No           No            Day             Day   \n",
       "2              No             No           No            Day             Day   \n",
       "3              No            Yes           No            Day             Day   \n",
       "4              No             No           No          Night           Night   \n",
       "\n",
       "   Nautical_Twilight  Astronomical_Twilight  Twilight  \n",
       "0              Night                  Night     Night  \n",
       "1                Day                    Day       Day  \n",
       "2                Day                    Day       Day  \n",
       "3                Day                    Day       Day  \n",
       "4              Night                  Night     Night  \n",
       "\n",
       "[5 rows x 60 columns]"
      ]
     },
     "execution_count": 45,
     "metadata": {},
     "output_type": "execute_result"
    }
   ],
   "source": [
    "df_columns_not_null.head()"
   ]
  },
  {
   "cell_type": "code",
   "execution_count": 46,
   "metadata": {},
   "outputs": [
    {
     "data": {
      "text/plain": [
       "288762"
      ]
     },
     "execution_count": 46,
     "metadata": {},
     "output_type": "execute_result"
    }
   ],
   "source": [
    "len(df_columns_not_null)"
   ]
  },
  {
   "cell_type": "code",
   "execution_count": 47,
   "metadata": {},
   "outputs": [
    {
     "name": "stdout",
     "output_type": "stream",
     "text": [
      "<class 'pandas.core.frame.DataFrame'>\n",
      "Int64Index: 288762 entries, 0 to 297433\n",
      "Data columns (total 60 columns):\n",
      "Unnamed: 0               288762 non-null int64\n",
      "ID                       288762 non-null object\n",
      "Source                   288762 non-null object\n",
      "TMC                      218462 non-null float64\n",
      "Severity                 288762 non-null int64\n",
      "Start_Time               288762 non-null object\n",
      "End_Time                 288762 non-null object\n",
      "Month                    288762 non-null object\n",
      "Year                     288762 non-null object\n",
      "Start Date               288762 non-null object\n",
      "End Date                 288762 non-null object\n",
      "Start Time               288762 non-null object\n",
      "End Time                 288762 non-null object\n",
      "Start Hour               288762 non-null object\n",
      "End Hour                 288762 non-null object\n",
      "Day Of Week              288762 non-null object\n",
      "Latitude                 288762 non-null float64\n",
      "Longitude                288762 non-null float64\n",
      "End_Lat                  70300 non-null float64\n",
      "End_Lng                  70300 non-null float64\n",
      "Distance(mi)             288762 non-null float64\n",
      "Description              288762 non-null object\n",
      "Number                   102360 non-null float64\n",
      "Street                   288762 non-null object\n",
      "Side                     288762 non-null object\n",
      "City                     288756 non-null object\n",
      "County                   288762 non-null object\n",
      "State                    288762 non-null object\n",
      "Zipcode                  288762 non-null object\n",
      "Country                  288762 non-null object\n",
      "Timezone                 288762 non-null object\n",
      "Airport_Code             288762 non-null object\n",
      "Weather_Timestamp        288762 non-null object\n",
      "Temperature(F)           288762 non-null float64\n",
      "Wind_Chill(F)            111408 non-null float64\n",
      "Humidity(%)              288762 non-null float64\n",
      "Pressure(in)             288762 non-null float64\n",
      "Visibility(mi)           288762 non-null float64\n",
      "Wind_Direction           288332 non-null object\n",
      "Wind_Speed(mph)          251016 non-null float64\n",
      "Precipitation(in)        96308 non-null float64\n",
      "Weather_Condition        288762 non-null object\n",
      "Amenity                  288762 non-null object\n",
      "Bump                     288762 non-null object\n",
      "Crossing                 288762 non-null object\n",
      "Give_Way                 288762 non-null object\n",
      "Junction                 288762 non-null object\n",
      "No_Exit                  288762 non-null object\n",
      "Railway                  288762 non-null object\n",
      "Roundabout               288762 non-null object\n",
      "Station                  288762 non-null object\n",
      "Stop                     288762 non-null object\n",
      "Traffic_Calming          288762 non-null object\n",
      "Traffic_Signal           288762 non-null object\n",
      "Turning_Loop             288762 non-null object\n",
      "Sunrise_Sunset           288762 non-null object\n",
      "Civil_Twilight           288762 non-null object\n",
      "Nautical_Twilight        288762 non-null object\n",
      "Astronomical_Twilight    288762 non-null object\n",
      "Twilight                 288762 non-null object\n",
      "dtypes: float64(14), int64(2), object(44)\n",
      "memory usage: 134.4+ MB\n"
     ]
    }
   ],
   "source": [
    "df_columns_not_null.info()"
   ]
  },
  {
   "cell_type": "code",
   "execution_count": 48,
   "metadata": {},
   "outputs": [
    {
     "data": {
      "text/html": [
       "<div>\n",
       "<style scoped>\n",
       "    .dataframe tbody tr th:only-of-type {\n",
       "        vertical-align: middle;\n",
       "    }\n",
       "\n",
       "    .dataframe tbody tr th {\n",
       "        vertical-align: top;\n",
       "    }\n",
       "\n",
       "    .dataframe thead th {\n",
       "        text-align: right;\n",
       "    }\n",
       "</style>\n",
       "<table border=\"1\" class=\"dataframe\">\n",
       "  <thead>\n",
       "    <tr style=\"text-align: right;\">\n",
       "      <th></th>\n",
       "      <th>Unnamed: 0</th>\n",
       "      <th>TMC</th>\n",
       "      <th>Severity</th>\n",
       "      <th>Latitude</th>\n",
       "      <th>Longitude</th>\n",
       "      <th>End_Lat</th>\n",
       "      <th>End_Lng</th>\n",
       "      <th>Distance(mi)</th>\n",
       "      <th>Number</th>\n",
       "      <th>Temperature(F)</th>\n",
       "      <th>Wind_Chill(F)</th>\n",
       "      <th>Humidity(%)</th>\n",
       "      <th>Pressure(in)</th>\n",
       "      <th>Visibility(mi)</th>\n",
       "      <th>Wind_Speed(mph)</th>\n",
       "      <th>Precipitation(in)</th>\n",
       "    </tr>\n",
       "  </thead>\n",
       "  <tbody>\n",
       "    <tr>\n",
       "      <th>count</th>\n",
       "      <td>2.887620e+05</td>\n",
       "      <td>218462.000000</td>\n",
       "      <td>288762.000000</td>\n",
       "      <td>288762.000000</td>\n",
       "      <td>288762.000000</td>\n",
       "      <td>70300.000000</td>\n",
       "      <td>70300.000000</td>\n",
       "      <td>288762.000000</td>\n",
       "      <td>102360.000000</td>\n",
       "      <td>288762.000000</td>\n",
       "      <td>111408.000000</td>\n",
       "      <td>288762.000000</td>\n",
       "      <td>288762.000000</td>\n",
       "      <td>288762.000000</td>\n",
       "      <td>251016.000000</td>\n",
       "      <td>96308.000000</td>\n",
       "    </tr>\n",
       "    <tr>\n",
       "      <th>mean</th>\n",
       "      <td>1.484594e+06</td>\n",
       "      <td>207.777028</td>\n",
       "      <td>2.360383</td>\n",
       "      <td>36.487769</td>\n",
       "      <td>-95.450139</td>\n",
       "      <td>37.576958</td>\n",
       "      <td>-100.015281</td>\n",
       "      <td>0.284125</td>\n",
       "      <td>5806.296766</td>\n",
       "      <td>62.400056</td>\n",
       "      <td>51.413367</td>\n",
       "      <td>65.392361</td>\n",
       "      <td>29.831950</td>\n",
       "      <td>9.153878</td>\n",
       "      <td>8.297456</td>\n",
       "      <td>0.017938</td>\n",
       "    </tr>\n",
       "    <tr>\n",
       "      <th>std</th>\n",
       "      <td>8.577917e+05</td>\n",
       "      <td>20.100898</td>\n",
       "      <td>0.541732</td>\n",
       "      <td>4.934646</td>\n",
       "      <td>17.188322</td>\n",
       "      <td>5.024891</td>\n",
       "      <td>18.411390</td>\n",
       "      <td>1.503742</td>\n",
       "      <td>11776.202241</td>\n",
       "      <td>18.752516</td>\n",
       "      <td>25.167044</td>\n",
       "      <td>22.557991</td>\n",
       "      <td>0.716343</td>\n",
       "      <td>2.859102</td>\n",
       "      <td>4.870737</td>\n",
       "      <td>0.179270</td>\n",
       "    </tr>\n",
       "    <tr>\n",
       "      <th>min</th>\n",
       "      <td>0.000000e+00</td>\n",
       "      <td>200.000000</td>\n",
       "      <td>1.000000</td>\n",
       "      <td>24.560688</td>\n",
       "      <td>-124.623833</td>\n",
       "      <td>24.571240</td>\n",
       "      <td>-124.497419</td>\n",
       "      <td>0.000000</td>\n",
       "      <td>1.000000</td>\n",
       "      <td>-27.900000</td>\n",
       "      <td>-53.200000</td>\n",
       "      <td>1.000000</td>\n",
       "      <td>2.990000</td>\n",
       "      <td>0.000000</td>\n",
       "      <td>0.000000</td>\n",
       "      <td>0.000000</td>\n",
       "    </tr>\n",
       "    <tr>\n",
       "      <th>25%</th>\n",
       "      <td>7.419325e+05</td>\n",
       "      <td>201.000000</td>\n",
       "      <td>2.000000</td>\n",
       "      <td>33.545158</td>\n",
       "      <td>-117.296121</td>\n",
       "      <td>33.941942</td>\n",
       "      <td>-118.293950</td>\n",
       "      <td>0.000000</td>\n",
       "      <td>834.000000</td>\n",
       "      <td>50.000000</td>\n",
       "      <td>32.000000</td>\n",
       "      <td>49.000000</td>\n",
       "      <td>29.820000</td>\n",
       "      <td>10.000000</td>\n",
       "      <td>4.600000</td>\n",
       "      <td>0.000000</td>\n",
       "    </tr>\n",
       "    <tr>\n",
       "      <th>50%</th>\n",
       "      <td>1.481335e+06</td>\n",
       "      <td>201.000000</td>\n",
       "      <td>2.000000</td>\n",
       "      <td>35.834667</td>\n",
       "      <td>-90.226112</td>\n",
       "      <td>37.902310</td>\n",
       "      <td>-96.623050</td>\n",
       "      <td>0.000000</td>\n",
       "      <td>2715.000000</td>\n",
       "      <td>64.400000</td>\n",
       "      <td>54.000000</td>\n",
       "      <td>68.000000</td>\n",
       "      <td>29.980000</td>\n",
       "      <td>10.000000</td>\n",
       "      <td>7.000000</td>\n",
       "      <td>0.000000</td>\n",
       "    </tr>\n",
       "    <tr>\n",
       "      <th>75%</th>\n",
       "      <td>2.226528e+06</td>\n",
       "      <td>201.000000</td>\n",
       "      <td>3.000000</td>\n",
       "      <td>40.422672</td>\n",
       "      <td>-80.953381</td>\n",
       "      <td>41.460368</td>\n",
       "      <td>-82.382490</td>\n",
       "      <td>0.010000</td>\n",
       "      <td>6998.000000</td>\n",
       "      <td>76.000000</td>\n",
       "      <td>73.000000</td>\n",
       "      <td>84.000000</td>\n",
       "      <td>30.110000</td>\n",
       "      <td>10.000000</td>\n",
       "      <td>10.400000</td>\n",
       "      <td>0.000000</td>\n",
       "    </tr>\n",
       "    <tr>\n",
       "      <th>max</th>\n",
       "      <td>2.974330e+06</td>\n",
       "      <td>406.000000</td>\n",
       "      <td>4.000000</td>\n",
       "      <td>49.000260</td>\n",
       "      <td>-67.606864</td>\n",
       "      <td>49.000760</td>\n",
       "      <td>-67.626576</td>\n",
       "      <td>138.562000</td>\n",
       "      <td>852599.000000</td>\n",
       "      <td>140.000000</td>\n",
       "      <td>115.000000</td>\n",
       "      <td>100.000000</td>\n",
       "      <td>33.040000</td>\n",
       "      <td>80.000000</td>\n",
       "      <td>175.000000</td>\n",
       "      <td>10.140000</td>\n",
       "    </tr>\n",
       "  </tbody>\n",
       "</table>\n",
       "</div>"
      ],
      "text/plain": [
       "         Unnamed: 0            TMC       Severity       Latitude  \\\n",
       "count  2.887620e+05  218462.000000  288762.000000  288762.000000   \n",
       "mean   1.484594e+06     207.777028       2.360383      36.487769   \n",
       "std    8.577917e+05      20.100898       0.541732       4.934646   \n",
       "min    0.000000e+00     200.000000       1.000000      24.560688   \n",
       "25%    7.419325e+05     201.000000       2.000000      33.545158   \n",
       "50%    1.481335e+06     201.000000       2.000000      35.834667   \n",
       "75%    2.226528e+06     201.000000       3.000000      40.422672   \n",
       "max    2.974330e+06     406.000000       4.000000      49.000260   \n",
       "\n",
       "           Longitude       End_Lat       End_Lng   Distance(mi)  \\\n",
       "count  288762.000000  70300.000000  70300.000000  288762.000000   \n",
       "mean      -95.450139     37.576958   -100.015281       0.284125   \n",
       "std        17.188322      5.024891     18.411390       1.503742   \n",
       "min      -124.623833     24.571240   -124.497419       0.000000   \n",
       "25%      -117.296121     33.941942   -118.293950       0.000000   \n",
       "50%       -90.226112     37.902310    -96.623050       0.000000   \n",
       "75%       -80.953381     41.460368    -82.382490       0.010000   \n",
       "max       -67.606864     49.000760    -67.626576     138.562000   \n",
       "\n",
       "              Number  Temperature(F)  Wind_Chill(F)    Humidity(%)  \\\n",
       "count  102360.000000   288762.000000  111408.000000  288762.000000   \n",
       "mean     5806.296766       62.400056      51.413367      65.392361   \n",
       "std     11776.202241       18.752516      25.167044      22.557991   \n",
       "min         1.000000      -27.900000     -53.200000       1.000000   \n",
       "25%       834.000000       50.000000      32.000000      49.000000   \n",
       "50%      2715.000000       64.400000      54.000000      68.000000   \n",
       "75%      6998.000000       76.000000      73.000000      84.000000   \n",
       "max    852599.000000      140.000000     115.000000     100.000000   \n",
       "\n",
       "        Pressure(in)  Visibility(mi)  Wind_Speed(mph)  Precipitation(in)  \n",
       "count  288762.000000   288762.000000    251016.000000       96308.000000  \n",
       "mean       29.831950        9.153878         8.297456           0.017938  \n",
       "std         0.716343        2.859102         4.870737           0.179270  \n",
       "min         2.990000        0.000000         0.000000           0.000000  \n",
       "25%        29.820000       10.000000         4.600000           0.000000  \n",
       "50%        29.980000       10.000000         7.000000           0.000000  \n",
       "75%        30.110000       10.000000        10.400000           0.000000  \n",
       "max        33.040000       80.000000       175.000000          10.140000  "
      ]
     },
     "execution_count": 48,
     "metadata": {},
     "output_type": "execute_result"
    }
   ],
   "source": [
    "df_columns_not_null.describe()"
   ]
  },
  {
   "cell_type": "code",
   "execution_count": 49,
   "metadata": {},
   "outputs": [
    {
     "data": {
      "text/plain": [
       "CA    64326\n",
       "TX    29010\n",
       "FL    21799\n",
       "SC    14209\n",
       "NC    14044\n",
       "NY    13531\n",
       "PA     8845\n",
       "MI     8844\n",
       "IL     8573\n",
       "GA     8227\n",
       "VA     7623\n",
       "OR     6896\n",
       "MN     6139\n",
       "WA     6029\n",
       "AZ     5991\n",
       "TN     5793\n",
       "OH     5577\n",
       "LA     5237\n",
       "OK     5075\n",
       "NJ     4716\n",
       "CO     3996\n",
       "UT     3789\n",
       "AL     3574\n",
       "MD     3298\n",
       "MA     3004\n",
       "IN     2955\n",
       "MO     2804\n",
       "NE     2238\n",
       "CT     2200\n",
       "KY     1916\n",
       "WI     1738\n",
       "RI     1007\n",
       "IA      937\n",
       "NV      911\n",
       "NH      719\n",
       "MS      594\n",
       "NM      478\n",
       "KS      455\n",
       "DE      444\n",
       "DC      299\n",
       "WV      240\n",
       "ME      198\n",
       "ID      160\n",
       "AR      155\n",
       "VT       71\n",
       "WY       46\n",
       "MT       43\n",
       "SD        7\n",
       "ND        2\n",
       "Name: State, dtype: int64"
      ]
     },
     "execution_count": 49,
     "metadata": {},
     "output_type": "execute_result"
    }
   ],
   "source": [
    "df_columns_not_null['State'].value_counts()"
   ]
  },
  {
   "cell_type": "code",
   "execution_count": 50,
   "metadata": {},
   "outputs": [
    {
     "data": {
      "text/plain": [
       "Houston                  9085\n",
       "Charlotte                6776\n",
       "Los Angeles              6465\n",
       "Dallas                   5769\n",
       "Austin                   5747\n",
       "Raleigh                  3885\n",
       "Atlanta                  3781\n",
       "Miami                    3101\n",
       "Oklahoma City            3087\n",
       "Baton Rouge              3035\n",
       "Nashville                2797\n",
       "Orlando                  2527\n",
       "Sacramento               2520\n",
       "Seattle                  2404\n",
       "Phoenix                  2277\n",
       "Minneapolis              2190\n",
       "San Antonio              2178\n",
       "San Diego                2143\n",
       "Indianapolis             1776\n",
       "Richmond                 1765\n",
       "Omaha                    1756\n",
       "San Jose                 1748\n",
       "Portland                 1666\n",
       "Jacksonville             1658\n",
       "Columbia                 1650\n",
       "Denver                   1626\n",
       "Saint Paul               1610\n",
       "Chicago                  1524\n",
       "Greenville               1484\n",
       "Tulsa                    1475\n",
       "                         ... \n",
       "Edgecomb                    1\n",
       "Horseheads                  1\n",
       "Zephyr Cove                 1\n",
       "Charlotte Court House       1\n",
       "Clay                        1\n",
       "Broxton                     1\n",
       "Lund                        1\n",
       "Blandon                     1\n",
       "New Franken                 1\n",
       "Moselle                     1\n",
       "West Farmington             1\n",
       "Rural Valley                1\n",
       "Sagamore Beach              1\n",
       "Hayfield                    1\n",
       "Wattsburg                   1\n",
       "Imbler                      1\n",
       "Rising Fawn                 1\n",
       "Snowmass                    1\n",
       "Shoemakersville             1\n",
       "Manzanola                   1\n",
       "Star                        1\n",
       "Portville                   1\n",
       "Amboy                       1\n",
       "Morenci                     1\n",
       "Brinson                     1\n",
       "Byromville                  1\n",
       "Mc Alisterville             1\n",
       "English                     1\n",
       "Fort Blackmore              1\n",
       "Alexandria Bay              1\n",
       "Name: City, Length: 7571, dtype: int64"
      ]
     },
     "execution_count": 50,
     "metadata": {},
     "output_type": "execute_result"
    }
   ],
   "source": [
    "df_columns_not_null['City'].value_counts()"
   ]
  },
  {
   "cell_type": "code",
   "execution_count": 53,
   "metadata": {},
   "outputs": [
    {
     "data": {
      "text/plain": [
       "9084"
      ]
     },
     "execution_count": 53,
     "metadata": {},
     "output_type": "execute_result"
    }
   ],
   "source": [
    "len(df_columns_not_null[(df_columns_not_null['City'] == 'Houston') & (df_columns_not_null['State'] =='TX')])"
   ]
  },
  {
   "cell_type": "code",
   "execution_count": 56,
   "metadata": {},
   "outputs": [
    {
     "data": {
      "text/plain": [
       "6763"
      ]
     },
     "execution_count": 56,
     "metadata": {},
     "output_type": "execute_result"
    }
   ],
   "source": [
    "len(df_columns_not_null[(df_columns_not_null['City'] == 'Charlotte') & (df_columns_not_null['State'] =='NC')])"
   ]
  },
  {
   "cell_type": "code",
   "execution_count": 59,
   "metadata": {},
   "outputs": [
    {
     "data": {
      "text/plain": [
       "6465"
      ]
     },
     "execution_count": 59,
     "metadata": {},
     "output_type": "execute_result"
    }
   ],
   "source": [
    "len(df_columns_not_null[(df_columns_not_null['City'] == 'Los Angeles') & (df_columns_not_null['State'] =='CA')])"
   ]
  },
  {
   "cell_type": "code",
   "execution_count": 60,
   "metadata": {},
   "outputs": [
    {
     "data": {
      "text/plain": [
       "Los Angeles              2685\n",
       "Atlanta                  2396\n",
       "Dallas                   2188\n",
       "Houston                  2086\n",
       "Miami                    1168\n",
       "Jacksonville             1118\n",
       "San Diego                1034\n",
       "Minneapolis               995\n",
       "Saint Paul                815\n",
       "Denver                    794\n",
       "Chicago                   779\n",
       "Nashville                 765\n",
       "Detroit                   763\n",
       "Seattle                   714\n",
       "Austin                    710\n",
       "Phoenix                   688\n",
       "Louisville                683\n",
       "Saint Louis               669\n",
       "Raleigh                   658\n",
       "Oakland                   646\n",
       "Fort Lauderdale           610\n",
       "Bronx                     581\n",
       "San Antonio               570\n",
       "Sacramento                562\n",
       "Columbus                  556\n",
       "San Jose                  525\n",
       "Richmond                  521\n",
       "Long Beach                520\n",
       "Columbia                  519\n",
       "Tampa                     511\n",
       "                         ... \n",
       "Mount Hood Parkdale         1\n",
       "Arabi                       1\n",
       "Mount Carroll               1\n",
       "Mukilteo                    1\n",
       "Helper                      1\n",
       "Mullica Hill                1\n",
       "Texola                      1\n",
       "Bozeman                     1\n",
       "Duson                       1\n",
       "East Chicago                1\n",
       "Opelousas                   1\n",
       "Rayland                     1\n",
       "Schuylerville               1\n",
       "Cold Spring Harbor          1\n",
       "Dorchester Center           1\n",
       "Lomira                      1\n",
       "Cornwall                    1\n",
       "Fort Benton                 1\n",
       "Township 12 Paw Creek       1\n",
       "Cuervo                      1\n",
       "Kalispell                   1\n",
       "Roachdale                   1\n",
       "Zuni                        1\n",
       "Gresham                     1\n",
       "Brundidge                   1\n",
       "Loganton                    1\n",
       "Brownstown                  1\n",
       "Blountsville                1\n",
       "Addyston                    1\n",
       "Blair                       1\n",
       "Name: City, Length: 4978, dtype: int64"
      ]
     },
     "execution_count": 60,
     "metadata": {},
     "output_type": "execute_result"
    }
   ],
   "source": [
    "df_columns_not_null[(df_columns_not_null['Severity'] == 3) | (df_columns_not_null['Severity'] == 4)]['City'].value_counts()"
   ]
  },
  {
   "cell_type": "code",
   "execution_count": 63,
   "metadata": {},
   "outputs": [
    {
     "data": {
      "text/plain": [
       "2685"
      ]
     },
     "execution_count": 63,
     "metadata": {},
     "output_type": "execute_result"
    }
   ],
   "source": [
    "len(df_columns_not_null[((df_columns_not_null['Severity'] == 3) | (df_columns_not_null['Severity'] == 4)) &\n",
    "                   (df_columns_not_null['City'] == 'Los Angeles') & (df_columns_not_null['State'] == 'CA')])"
   ]
  },
  {
   "cell_type": "code",
   "execution_count": 65,
   "metadata": {},
   "outputs": [
    {
     "data": {
      "text/plain": [
       "2396"
      ]
     },
     "execution_count": 65,
     "metadata": {},
     "output_type": "execute_result"
    }
   ],
   "source": [
    "len(df_columns_not_null[((df_columns_not_null['Severity'] == 3) | (df_columns_not_null['Severity'] == 4)) &\n",
    "                   (df_columns_not_null['City'] == 'Atlanta') & (df_columns_not_null['State'] == 'GA')])"
   ]
  },
  {
   "cell_type": "code",
   "execution_count": 68,
   "metadata": {},
   "outputs": [
    {
     "data": {
      "text/plain": [
       "2184"
      ]
     },
     "execution_count": 68,
     "metadata": {},
     "output_type": "execute_result"
    }
   ],
   "source": [
    "len(df_columns_not_null[((df_columns_not_null['Severity'] == 3) | (df_columns_not_null['Severity'] == 4)) &\n",
    "                   (df_columns_not_null['City'] == 'Dallas') & (df_columns_not_null['State'] == 'TX')])"
   ]
  },
  {
   "cell_type": "code",
   "execution_count": null,
   "metadata": {},
   "outputs": [],
   "source": []
  }
 ],
 "metadata": {
  "kernelspec": {
   "display_name": "Python 3",
   "language": "python",
   "name": "python3"
  },
  "language_info": {
   "codemirror_mode": {
    "name": "ipython",
    "version": 3
   },
   "file_extension": ".py",
   "mimetype": "text/x-python",
   "name": "python",
   "nbconvert_exporter": "python",
   "pygments_lexer": "ipython3",
   "version": "3.6.5"
  }
 },
 "nbformat": 4,
 "nbformat_minor": 2
}
